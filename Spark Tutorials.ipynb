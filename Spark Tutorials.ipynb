{
 "cells": [
  {
   "cell_type": "code",
   "execution_count": 2,
   "metadata": {},
   "outputs": [],
   "source": [
    "from pyspark.sql import SparkSession"
   ]
  },
  {
   "cell_type": "code",
   "execution_count": 3,
   "metadata": {},
   "outputs": [],
   "source": [
    "spark = SparkSession \\\n",
    ".builder \\\n",
    ".appName(\"Python Spark create RDD example\") \\\n",
    ".config(\"spark.some.config.option\", \"some-value\") \\\n",
    ".getOrCreate()"
   ]
  },
  {
   "cell_type": "code",
   "execution_count": 4,
   "metadata": {},
   "outputs": [],
   "source": [
    "df = spark.sparkContext.parallelize([(1, 2, 3, 'a b c'),\n",
    "(4, 5, 6, 'd e f'),\n",
    "(7, 8, 9, 'g h i')]).toDF(['col1', 'col2', 'col3','col4'])\n"
   ]
  },
  {
   "cell_type": "code",
   "execution_count": 5,
   "metadata": {},
   "outputs": [
    {
     "name": "stdout",
     "output_type": "stream",
     "text": [
      "+----+----+----+-----+\n",
      "|col1|col2|col3| col4|\n",
      "+----+----+----+-----+\n",
      "|   1|   2|   3|a b c|\n",
      "|   4|   5|   6|d e f|\n",
      "|   7|   8|   9|g h i|\n",
      "+----+----+----+-----+\n",
      "\n"
     ]
    }
   ],
   "source": [
    "df.show()"
   ]
  },
  {
   "cell_type": "code",
   "execution_count": 6,
   "metadata": {},
   "outputs": [],
   "source": [
    "#Reading from the file and creating dataframe\n",
    "df = spark.read.csv(\"data/Artists.csv\",header = \"true\")"
   ]
  },
  {
   "cell_type": "code",
   "execution_count": 7,
   "metadata": {},
   "outputs": [
    {
     "name": "stdout",
     "output_type": "stream",
     "text": [
      "+-------------+---------------+-------------------+-----------+------+---------+-------+--------+---------+\n",
      "|ConstituentID|    DisplayName|          ArtistBio|Nationality|Gender|BeginDate|EndDate|Wiki QID|     ULAN|\n",
      "+-------------+---------------+-------------------+-----------+------+---------+-------+--------+---------+\n",
      "|            1| Robert Arneson|American, 1930–1992|   American|  Male|     1930|   1992|    null|     null|\n",
      "|            2| Doroteo Arnaiz| Spanish, born 1936|    Spanish|  Male|     1936|      0|    null|     null|\n",
      "|            3|    Bill Arnold|American, born 1941|   American|  Male|     1941|      0|    null|     null|\n",
      "|            4|Charles Arnoldi|American, born 1946|   American|  Male|     1946|      0|Q1063584|500027998|\n",
      "|            5|    Per Arnoldi|  Danish, born 1941|     Danish|  Male|     1941|      0|    null|     null|\n",
      "+-------------+---------------+-------------------+-----------+------+---------+-------+--------+---------+\n",
      "only showing top 5 rows\n",
      "\n"
     ]
    }
   ],
   "source": [
    "df.show(5)"
   ]
  },
  {
   "cell_type": "code",
   "execution_count": 8,
   "metadata": {},
   "outputs": [
    {
     "name": "stdout",
     "output_type": "stream",
     "text": [
      "root\n",
      " |-- ConstituentID: string (nullable = true)\n",
      " |-- DisplayName: string (nullable = true)\n",
      " |-- ArtistBio: string (nullable = true)\n",
      " |-- Nationality: string (nullable = true)\n",
      " |-- Gender: string (nullable = true)\n",
      " |-- BeginDate: string (nullable = true)\n",
      " |-- EndDate: string (nullable = true)\n",
      " |-- Wiki QID: string (nullable = true)\n",
      " |-- ULAN: string (nullable = true)\n",
      "\n"
     ]
    }
   ],
   "source": [
    "df.printSchema()"
   ]
  },
  {
   "cell_type": "code",
   "execution_count": 9,
   "metadata": {},
   "outputs": [
    {
     "name": "stdout",
     "output_type": "stream",
     "text": [
      "+-------------+---------------+-------------------+-----------+------+---------+-------+--------+---------+\n",
      "|ConstituentID|       ShowName|          ArtistBio|Nationality|Gender|BeginDate|EndDate|Wiki QID|     ULAN|\n",
      "+-------------+---------------+-------------------+-----------+------+---------+-------+--------+---------+\n",
      "|            1| Robert Arneson|American, 1930–1992|   American|  Male|     1930|   1992|    null|     null|\n",
      "|            2| Doroteo Arnaiz| Spanish, born 1936|    Spanish|  Male|     1936|      0|    null|     null|\n",
      "|            3|    Bill Arnold|American, born 1941|   American|  Male|     1941|      0|    null|     null|\n",
      "|            4|Charles Arnoldi|American, born 1946|   American|  Male|     1946|      0|Q1063584|500027998|\n",
      "|            5|    Per Arnoldi|  Danish, born 1941|     Danish|  Male|     1941|      0|    null|     null|\n",
      "+-------------+---------------+-------------------+-----------+------+---------+-------+--------+---------+\n",
      "only showing top 5 rows\n",
      "\n"
     ]
    }
   ],
   "source": [
    "mapping = {'DisplayName':\"ShowName\"}\n",
    "newNames = [mapping.get(col,col) for col in df.columns]\n",
    "df.toDF(*newNames).show(5)"
   ]
  },
  {
   "cell_type": "code",
   "execution_count": 10,
   "metadata": {},
   "outputs": [
    {
     "name": "stdout",
     "output_type": "stream",
     "text": [
      "+-------------+--------------------+-------------------+-----------+------+---------+-------+--------+---------+\n",
      "|ConstituentID|         DisplayName|          ArtistBio|Nationality|Gender|BeginDate|EndDate|Wiki QID|     ULAN|\n",
      "+-------------+--------------------+-------------------+-----------+------+---------+-------+--------+---------+\n",
      "|          544|         Jyoti Bhatt|  Indian, born 1934|     Indian|  Male|     1934|      0|    null|     null|\n",
      "|         2051| Vasudeo S. Gaitonde|  Indian, 1924–2001|     Indian|  Male|     1924|   2001|    null|     null|\n",
      "|         2411|       Satish Gujral|  Indian, born 1925|     Indian|  Male|     1925|      0|Q7426282|500091206|\n",
      "|         3078|   Bhupen P. Khakhar|  Indian, 1934–2003|     Indian|  Male|     1934|   2003|    null|     null|\n",
      "|         3079|      Krishen Khanna|  Indian, born 1925|     Indian|  Male|     1925|      0|    null|     null|\n",
      "|         4836|    N. Krishna Reddy|Indian, 1925 - 2018|     Indian|  Male|     1925|   2018|    null|     null|\n",
      "|         5133|     Mohan B. Samant|  Indian, 1926–2004|     Indian|  Male|     1926|   2004|    null|     null|\n",
      "|         5447|      Raghubir Singh|  Indian, 1942–1999|     Indian|  Male|     1942|   1999|Q2127242|500037084|\n",
      "|         7429|         Vijay Kumar|  Indian, born 1942|     Indian|  Male|     1942|      0|    null|     null|\n",
      "|         7850|       Sanjeev Saith|  Indian, born 1958|     Indian|  Male|     1958|      0|    null|     null|\n",
      "|        22941|      Acharya Vyakul|  Indian, 1930–2000|     Indian|  Male|     1930|   2000|    null|     null|\n",
      "|        28429|          Raqib Shaw|  Indian, born 1974|     Indian|  Male|     1974|      0|Q2131691|500344459|\n",
      "|        29563|Creswell Manufact...|              India|     Indian|  null|        0|      0|    null|     null|\n",
      "|        31784|    Nasreen Mohamedi|  Indian, 1937–1990|     Indian|Female|     1937|   1990|Q1965869|     null|\n",
      "|        32825|       Nalini Malani|  Indian, born 1946|     Indian|Female|     1946|      0|    null|     null|\n",
      "|        35340|         Amar Kanwar|  Indian, born 1964|     Indian|  Male|     1964|      0|    null|     null|\n",
      "|        37357|           Mira Nair|  Indian, born 1957|     Indian|Female|     1957|      0|    null|     null|\n",
      "|        37577|     Ranjani Shettar|  Indian, born 1977|     Indian|Female|     1977|      0|    null|     null|\n",
      "|        38183|       Yusuf Arakkal|  Indian, born 1945|     Indian|  Male|     1945|      0|    null|     null|\n",
      "|        38949|        Debnath Basu|  Indian, born 1961|     Indian|  null|     1961|      0|    null|     null|\n",
      "+-------------+--------------------+-------------------+-----------+------+---------+-------+--------+---------+\n",
      "only showing top 20 rows\n",
      "\n"
     ]
    }
   ],
   "source": [
    "df[df.Nationality==\"Indian\"].show()"
   ]
  },
  {
   "cell_type": "code",
   "execution_count": 11,
   "metadata": {},
   "outputs": [
    {
     "name": "stdout",
     "output_type": "stream",
     "text": [
      "+-------------+---------------+-------------------+-----------+------+---------+-------+--------+---------+--------------------+\n",
      "|ConstituentID|    DisplayName|          ArtistBio|Nationality|Gender|BeginDate|EndDate|Wiki QID|     ULAN|         EndDateNorm|\n",
      "+-------------+---------------+-------------------+-----------+------+---------+-------+--------+---------+--------------------+\n",
      "|            1| Robert Arneson|American, 1930–1992|   American|  Male|     1930|   1992|    null|     null|2.009788030925310...|\n",
      "|            2| Doroteo Arnaiz| Spanish, born 1936|    Spanish|  Male|     1936|      0|    null|     null|                 0.0|\n",
      "|            3|    Bill Arnold|American, born 1941|   American|  Male|     1941|      0|    null|     null|                 0.0|\n",
      "|            4|Charles Arnoldi|American, born 1946|   American|  Male|     1946|      0|Q1063584|500027998|                 0.0|\n",
      "+-------------+---------------+-------------------+-----------+------+---------+-------+--------+---------+--------------------+\n",
      "only showing top 4 rows\n",
      "\n"
     ]
    }
   ],
   "source": [
    "import pyspark.sql.functions as F\n",
    "df.withColumn(\"EndDateNorm\",df.EndDate/df.groupBy().agg(F.sum(\"EndDate\")).collect()[0][0]).show(4)"
   ]
  },
  {
   "cell_type": "code",
   "execution_count": 12,
   "metadata": {},
   "outputs": [
    {
     "name": "stdout",
     "output_type": "stream",
     "text": [
      "+------+------------------+\n",
      "|Gender|count(Nationality)|\n",
      "+------+------------------+\n",
      "|  null|              1355|\n",
      "|Female|              2203|\n",
      "|female|                 1|\n",
      "|  male|                15|\n",
      "|  Male|              9747|\n",
      "+------+------------------+\n",
      "\n"
     ]
    }
   ],
   "source": [
    "df.groupBy(['Gender']).agg({'Nationality': 'count'}).show()"
   ]
  },
  {
   "cell_type": "code",
   "execution_count": null,
   "metadata": {},
   "outputs": [],
   "source": []
  },
  {
   "cell_type": "code",
   "execution_count": 19,
   "metadata": {},
   "outputs": [],
   "source": [
    "german = spark.read.csv(\"Data 2/german_credit.csv\",header = True)"
   ]
  },
  {
   "cell_type": "markdown",
   "metadata": {},
   "source": [
    "df.columns"
   ]
  },
  {
   "cell_type": "code",
   "execution_count": 21,
   "metadata": {},
   "outputs": [
    {
     "data": {
      "text/plain": [
       "['Creditability',\n",
       " 'Account Balance',\n",
       " 'Duration of Credit (month)',\n",
       " 'Payment Status of Previous Credit',\n",
       " 'Purpose',\n",
       " 'Credit Amount',\n",
       " 'Value Savings/Stocks',\n",
       " 'Length of current employment',\n",
       " 'Instalment per cent',\n",
       " 'Sex & Marital Status',\n",
       " 'Guarantors',\n",
       " 'Duration in Current address',\n",
       " 'Most valuable available asset',\n",
       " 'Age (years)',\n",
       " 'Concurrent Credits',\n",
       " 'Type of apartment',\n",
       " 'No of Credits at this Bank',\n",
       " 'Occupation',\n",
       " 'No of dependents',\n",
       " 'Telephone',\n",
       " 'Foreign Worker']"
      ]
     },
     "execution_count": 21,
     "metadata": {},
     "output_type": "execute_result"
    }
   ],
   "source": [
    "german.columns"
   ]
  },
  {
   "cell_type": "code",
   "execution_count": 22,
   "metadata": {},
   "outputs": [
    {
     "name": "stdout",
     "output_type": "stream",
     "text": [
      "+-------+------------------+-------------------+\n",
      "|summary|   Account Balance|   No of dependents|\n",
      "+-------+------------------+-------------------+\n",
      "|  count|              1000|               1000|\n",
      "|   mean|             2.577|              1.155|\n",
      "| stddev|1.2576377271108936|0.36208577175319395|\n",
      "|    min|                 1|                  1|\n",
      "|    max|                 4|                  2|\n",
      "+-------+------------------+-------------------+\n",
      "\n"
     ]
    }
   ],
   "source": [
    "num_cols = ['Account Balance','No of dependents']\n",
    "german.select(num_cols).describe().show()"
   ]
  },
  {
   "cell_type": "code",
   "execution_count": 33,
   "metadata": {},
   "outputs": [
    {
     "name": "stdout",
     "output_type": "stream",
     "text": [
      "+-------------------------+-------------------------+\n",
      "|skewness(Account Balance)|kurtosis(Account Balance)|\n",
      "+-------------------------+-------------------------+\n",
      "|     0.006946592744377805|      -1.6613901748002375|\n",
      "+-------------------------+-------------------------+\n",
      "\n"
     ]
    }
   ],
   "source": [
    "from pyspark.sql.functions import skewness, kurtosis\n",
    "german.select(skewness(\"Account Balance\"), kurtosis(\"Account Balance\")).show()"
   ]
  },
  {
   "cell_type": "code",
   "execution_count": 31,
   "metadata": {
    "scrolled": false
   },
   "outputs": [],
   "source": [
    "from pyspark.sql import functions as F\n",
    "from pyspark.sql.functions import rank,sum,col\n",
    "pivot_by_age_amount = german.select([\"Age (years)\",\"Credit Amount\"]) \\\n",
    "                            .groupBy(\"Age (years)\") \\\n",
    "                            .agg(F.count(\"Credit Amount\").alias(\"Credit_num\"), \\\n",
    "                            F.mean('Credit Amount').alias('Credit_avg'), \\\n",
    "                            F.min('Credit Amount').alias('Credit_min'),\n",
    "                            F.max('Credit Amount').alias('Credit_max'))\n",
    "                        "
   ]
  },
  {
   "cell_type": "code",
   "execution_count": 48,
   "metadata": {},
   "outputs": [
    {
     "name": "stdout",
     "output_type": "stream",
     "text": [
      "+-----------+----------+------------------+----------+----------+\n",
      "|Age (years)|Credit_num|        Credit_avg|Credit_min|Credit_max|\n",
      "+-----------+----------+------------------+----------+----------+\n",
      "|         51|         8|            3058.0|      1164|      7511|\n",
      "|         54|        10|            2661.0|      1318|      7432|\n",
      "|         29|        37| 3509.945945945946|      1103|       959|\n",
      "|         42|        22| 4211.318181818182|     10366|      8318|\n",
      "|         64|         5|            1948.4|      1364|       753|\n",
      "|         30|        40|          3966.875|      1055|       960|\n",
      "|         34|        33| 3387.242424242424|     11998|      6999|\n",
      "|         59|         3|            4275.0|      1364|      6416|\n",
      "|         22|        27|2109.5925925925926|      1007|       806|\n",
      "|         28|        43|2934.6976744186045|      1068|      9572|\n",
      "|         35|        40|           3216.95|      1050|       976|\n",
      "|         52|         9| 2063.222222222222|      2133|       936|\n",
      "|         47|        17| 3078.705882352941|      1209|       958|\n",
      "|         43|        17|3481.9411764705883|      1203|      7393|\n",
      "|         31|        38|3671.6315789473683|      1360|      9857|\n",
      "|         70|         1|            7308.0|      7308|      7308|\n",
      "|         27|        50|           3436.76|      1053|       951|\n",
      "|         61|         7|            1971.0|      1239|      3059|\n",
      "|         75|         2|            3994.5|      1374|      6615|\n",
      "|         26|        49| 2921.673469387755|      1076|      9960|\n",
      "+-----------+----------+------------------+----------+----------+\n",
      "only showing top 20 rows\n",
      "\n"
     ]
    }
   ],
   "source": [
    "pivot_by_age_amount.show()"
   ]
  },
  {
   "cell_type": "code",
   "execution_count": null,
   "metadata": {},
   "outputs": [],
   "source": []
  },
  {
   "cell_type": "code",
   "execution_count": null,
   "metadata": {},
   "outputs": [],
   "source": []
  }
 ],
 "metadata": {
  "kernelspec": {
   "display_name": "Python 3",
   "language": "python",
   "name": "python3"
  },
  "language_info": {
   "codemirror_mode": {
    "name": "ipython",
    "version": 3
   },
   "file_extension": ".py",
   "mimetype": "text/x-python",
   "name": "python",
   "nbconvert_exporter": "python",
   "pygments_lexer": "ipython3",
   "version": "3.6.7"
  }
 },
 "nbformat": 4,
 "nbformat_minor": 2
}
