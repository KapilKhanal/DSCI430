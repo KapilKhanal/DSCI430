{
 "cells": [
  {
   "cell_type": "code",
   "execution_count": 8,
   "metadata": {},
   "outputs": [
    {
     "name": "stdout",
     "output_type": "stream",
     "text": [
      "[<function first_task at 0x1109d42f0>, <function second_task at 0x1109d4158>, <function last_task at 0x11099ac80>]\n"
     ]
    }
   ],
   "source": [
    "class Pipeline():\n",
    "    def __init__(self):\n",
    "        self.tasks = []\n",
    "    def task(self,depends_on=None):\n",
    "        index = 0\n",
    "        if depends_on:\n",
    "            index = self.tasks.index(depends_on) + 1\n",
    "        def inner(func):\n",
    "            self.tasks.insert(index,func)\n",
    "            return func\n",
    "        return inner\n",
    "    def execute(self,input_):\n",
    "        output = 0\n",
    "        for task in self.tasks:\n",
    "            output = task(input_)\n",
    "        return output\n",
    "pipeline = Pipeline()\n",
    "    \n",
    "@pipeline.task()\n",
    "def first_task(x):\n",
    "    return x + 1\n",
    "\n",
    "@pipeline.task(depends_on=first_task)\n",
    "def second_task(x):\n",
    "    return x * 2\n",
    "\n",
    "@pipeline.task(depends_on=second_task)\n",
    "def last_task(x):\n",
    "    return x - 4\n",
    "\n",
    "print(pipeline.tasks)\n",
    "        "
   ]
  },
  {
   "cell_type": "code",
   "execution_count": 10,
   "metadata": {},
   "outputs": [
    {
     "ename": "TypeError",
     "evalue": "eval() arg 1 must be a string, bytes or code object",
     "output_type": "error",
     "traceback": [
      "\u001b[0;31m---------------------------------------------------------------------------\u001b[0m",
      "\u001b[0;31mTypeError\u001b[0m                                 Traceback (most recent call last)",
      "\u001b[0;32m<ipython-input-10-02ea63f55f40>\u001b[0m in \u001b[0;36m<module>\u001b[0;34m()\u001b[0m\n\u001b[0;32m----> 1\u001b[0;31m \u001b[0meval\u001b[0m\u001b[0;34m(\u001b[0m\u001b[0mpipeline\u001b[0m\u001b[0;34m.\u001b[0m\u001b[0mexecute\u001b[0m\u001b[0;34m(\u001b[0m\u001b[0;36m3\u001b[0m\u001b[0;34m)\u001b[0m\u001b[0;34m)\u001b[0m\u001b[0;34m\u001b[0m\u001b[0m\n\u001b[0m",
      "\u001b[0;31mTypeError\u001b[0m: eval() arg 1 must be a string, bytes or code object"
     ]
    }
   ],
   "source": [
    "pipeline.execute(3)"
   ]
  },
  {
   "cell_type": "code",
   "execution_count": null,
   "metadata": {},
   "outputs": [],
   "source": []
  }
 ],
 "metadata": {
  "kernelspec": {
   "display_name": "Python 3",
   "language": "python",
   "name": "python3"
  },
  "language_info": {
   "codemirror_mode": {
    "name": "ipython",
    "version": 3
   },
   "file_extension": ".py",
   "mimetype": "text/x-python",
   "name": "python",
   "nbconvert_exporter": "python",
   "pygments_lexer": "ipython3",
   "version": "3.6.5"
  }
 },
 "nbformat": 4,
 "nbformat_minor": 2
}
