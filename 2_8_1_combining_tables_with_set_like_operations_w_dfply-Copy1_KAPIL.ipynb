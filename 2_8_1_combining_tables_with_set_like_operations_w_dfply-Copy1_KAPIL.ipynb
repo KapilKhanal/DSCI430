{
 "cells": [
  {
   "cell_type": "markdown",
   "metadata": {
    "slideshow": {
     "slide_type": "slide"
    }
   },
   "source": [
    "# Concatenating Tables with Set-Like Operations\n",
    "\n",
    "One of the two way of combining two tables is to stack one table on top of the other.  When stacking two tables on top of one another, we need to decide\n",
    "\n",
    "1. If we combine columns based on position or name (and if combining by name, what do we do with mismatches?)\n",
    "2. How to decide which rows to keep.  In this case, we will take some guidance from SQL clauses."
   ]
  },
  {
   "cell_type": "code",
   "execution_count": 106,
   "metadata": {
    "slideshow": {
     "slide_type": "fragment"
    }
   },
   "outputs": [],
   "source": [
    "import pandas as pd\n",
    "from dfply import *"
   ]
  },
  {
   "cell_type": "markdown",
   "metadata": {
    "slideshow": {
     "slide_type": "slide"
    }
   },
   "source": [
    "## Three Types of Operations\n",
    "\n",
    "* **Union:** Keeps rows from either table.\n",
    "* **Intersection:** Only keeps common columns\n",
    "* **Set Difference/Except:** Keep rows from the left table *except* those in the right table."
   ]
  },
  {
   "cell_type": "markdown",
   "metadata": {
    "slideshow": {
     "slide_type": "slide"
    }
   },
   "source": [
    "## Set Operations in Action \n",
    "\n",
    "<img src=\"./img/table_verbs_set.gif\" width=800>"
   ]
  },
  {
   "cell_type": "markdown",
   "metadata": {
    "slideshow": {
     "slide_type": "slide"
    }
   },
   "source": [
    "## All Operations Match by Position\n",
    "\n",
    "All operations\n",
    "\n",
    "* Match columns by position\n",
    "* Require same number/type of columns"
   ]
  },
  {
   "cell_type": "markdown",
   "metadata": {
    "slideshow": {
     "slide_type": "slide"
    }
   },
   "source": [
    "## Distinct Versus All\n",
    "\n",
    "**UNION/INTERSECT/SET DIFFERENE** are **DISTINCT**\n",
    "    * Only keeps distinct rows, removing duplicates.\n",
    "**UNION ALL/INTERSECT ALL/SET DIFFERENCE ALL**\n",
    "    * Keeps duplicate rows\n",
    "\n",
    "**Note:** `pyspark` also includes `unionFromName`, which will match columns by name and doesn't require them to be in the same order."
   ]
  },
  {
   "cell_type": "markdown",
   "metadata": {
    "slideshow": {
     "slide_type": "slide"
    }
   },
   "source": [
    "## Example - Auto Sales in Spark"
   ]
  },
  {
   "cell_type": "code",
   "execution_count": 107,
   "metadata": {
    "slideshow": {
     "slide_type": "fragment"
    }
   },
   "outputs": [
    {
     "data": {
      "text/html": [
       "<div>\n",
       "<style scoped>\n",
       "    .dataframe tbody tr th:only-of-type {\n",
       "        vertical-align: middle;\n",
       "    }\n",
       "\n",
       "    .dataframe tbody tr th {\n",
       "        vertical-align: top;\n",
       "    }\n",
       "\n",
       "    .dataframe thead th {\n",
       "        text-align: right;\n",
       "    }\n",
       "</style>\n",
       "<table border=\"1\" class=\"dataframe\">\n",
       "  <thead>\n",
       "    <tr style=\"text-align: right;\">\n",
       "      <th></th>\n",
       "      <th>Salesperson</th>\n",
       "      <th>Compact</th>\n",
       "      <th>Sedan</th>\n",
       "      <th>SUV</th>\n",
       "      <th>Truck</th>\n",
       "    </tr>\n",
       "  </thead>\n",
       "  <tbody>\n",
       "    <tr>\n",
       "      <th>0</th>\n",
       "      <td>Ann</td>\n",
       "      <td>22</td>\n",
       "      <td>18</td>\n",
       "      <td>15</td>\n",
       "      <td>12</td>\n",
       "    </tr>\n",
       "    <tr>\n",
       "      <th>1</th>\n",
       "      <td>Bob</td>\n",
       "      <td>19</td>\n",
       "      <td>12</td>\n",
       "      <td>17</td>\n",
       "      <td>20</td>\n",
       "    </tr>\n",
       "    <tr>\n",
       "      <th>2</th>\n",
       "      <td>Yolanda</td>\n",
       "      <td>19</td>\n",
       "      <td>8</td>\n",
       "      <td>32</td>\n",
       "      <td>15</td>\n",
       "    </tr>\n",
       "    <tr>\n",
       "      <th>3</th>\n",
       "      <td>Xerxes</td>\n",
       "      <td>12</td>\n",
       "      <td>23</td>\n",
       "      <td>18</td>\n",
       "      <td>9</td>\n",
       "    </tr>\n",
       "  </tbody>\n",
       "</table>\n",
       "</div>"
      ],
      "text/plain": [
       "  Salesperson  Compact  Sedan  SUV  Truck\n",
       "0         Ann       22     18   15     12\n",
       "1         Bob       19     12   17     20\n",
       "2     Yolanda       19      8   32     15\n",
       "3      Xerxes       12     23   18      9"
      ]
     },
     "execution_count": 107,
     "metadata": {},
     "output_type": "execute_result"
    }
   ],
   "source": [
    "sales_may = pd.read_csv('./data/auto_sales_may.csv')\n",
    "sales_may"
   ]
  },
  {
   "cell_type": "code",
   "execution_count": 108,
   "metadata": {
    "slideshow": {
     "slide_type": "slide"
    }
   },
   "outputs": [
    {
     "data": {
      "text/html": [
       "<div>\n",
       "<style scoped>\n",
       "    .dataframe tbody tr th:only-of-type {\n",
       "        vertical-align: middle;\n",
       "    }\n",
       "\n",
       "    .dataframe tbody tr th {\n",
       "        vertical-align: top;\n",
       "    }\n",
       "\n",
       "    .dataframe thead th {\n",
       "        text-align: right;\n",
       "    }\n",
       "</style>\n",
       "<table border=\"1\" class=\"dataframe\">\n",
       "  <thead>\n",
       "    <tr style=\"text-align: right;\">\n",
       "      <th></th>\n",
       "      <th>Salesperson</th>\n",
       "      <th>Compact</th>\n",
       "      <th>Sedan</th>\n",
       "      <th>SUV</th>\n",
       "      <th>Truck</th>\n",
       "    </tr>\n",
       "  </thead>\n",
       "  <tbody>\n",
       "    <tr>\n",
       "      <th>0</th>\n",
       "      <td>Ann</td>\n",
       "      <td>22</td>\n",
       "      <td>18</td>\n",
       "      <td>15</td>\n",
       "      <td>12</td>\n",
       "    </tr>\n",
       "    <tr>\n",
       "      <th>1</th>\n",
       "      <td>Bob</td>\n",
       "      <td>20</td>\n",
       "      <td>14</td>\n",
       "      <td>6</td>\n",
       "      <td>24</td>\n",
       "    </tr>\n",
       "    <tr>\n",
       "      <th>2</th>\n",
       "      <td>Yolanda</td>\n",
       "      <td>19</td>\n",
       "      <td>10</td>\n",
       "      <td>28</td>\n",
       "      <td>17</td>\n",
       "    </tr>\n",
       "    <tr>\n",
       "      <th>3</th>\n",
       "      <td>Xerxes</td>\n",
       "      <td>11</td>\n",
       "      <td>27</td>\n",
       "      <td>17</td>\n",
       "      <td>9</td>\n",
       "    </tr>\n",
       "  </tbody>\n",
       "</table>\n",
       "</div>"
      ],
      "text/plain": [
       "  Salesperson  Compact  Sedan  SUV  Truck\n",
       "0         Ann       22     18   15     12\n",
       "1         Bob       20     14    6     24\n",
       "2     Yolanda       19     10   28     17\n",
       "3      Xerxes       11     27   17      9"
      ]
     },
     "execution_count": 108,
     "metadata": {},
     "output_type": "execute_result"
    }
   ],
   "source": [
    "sales_apr = pd.read_csv('./data/auto_sales_apr.csv')\n",
    "sales_apr"
   ]
  },
  {
   "cell_type": "markdown",
   "metadata": {
    "slideshow": {
     "slide_type": "slide"
    }
   },
   "source": [
    "# Concatenating Tables with Set-Like Operations in `pyspark`\n",
    "\n",
    "Now let's look at combining tables with `union`, `intersect`, and `except` in `pyspark`."
   ]
  },
  {
   "cell_type": "markdown",
   "metadata": {
    "slideshow": {
     "slide_type": "slide"
    }
   },
   "source": [
    "## Unions with `dfply`\n",
    "\n",
    "Use `left_table >> union(right_table)`"
   ]
  },
  {
   "cell_type": "code",
   "execution_count": 109,
   "metadata": {
    "scrolled": true,
    "slideshow": {
     "slide_type": "fragment"
    }
   },
   "outputs": [
    {
     "data": {
      "text/html": [
       "<div>\n",
       "<style scoped>\n",
       "    .dataframe tbody tr th:only-of-type {\n",
       "        vertical-align: middle;\n",
       "    }\n",
       "\n",
       "    .dataframe tbody tr th {\n",
       "        vertical-align: top;\n",
       "    }\n",
       "\n",
       "    .dataframe thead th {\n",
       "        text-align: right;\n",
       "    }\n",
       "</style>\n",
       "<table border=\"1\" class=\"dataframe\">\n",
       "  <thead>\n",
       "    <tr style=\"text-align: right;\">\n",
       "      <th></th>\n",
       "      <th>Salesperson</th>\n",
       "      <th>Compact</th>\n",
       "      <th>Sedan</th>\n",
       "      <th>SUV</th>\n",
       "      <th>Truck</th>\n",
       "    </tr>\n",
       "  </thead>\n",
       "  <tbody>\n",
       "    <tr>\n",
       "      <th>0</th>\n",
       "      <td>Ann</td>\n",
       "      <td>22</td>\n",
       "      <td>18</td>\n",
       "      <td>15</td>\n",
       "      <td>12</td>\n",
       "    </tr>\n",
       "    <tr>\n",
       "      <th>1</th>\n",
       "      <td>Bob</td>\n",
       "      <td>19</td>\n",
       "      <td>12</td>\n",
       "      <td>17</td>\n",
       "      <td>20</td>\n",
       "    </tr>\n",
       "    <tr>\n",
       "      <th>2</th>\n",
       "      <td>Yolanda</td>\n",
       "      <td>19</td>\n",
       "      <td>8</td>\n",
       "      <td>32</td>\n",
       "      <td>15</td>\n",
       "    </tr>\n",
       "    <tr>\n",
       "      <th>3</th>\n",
       "      <td>Xerxes</td>\n",
       "      <td>12</td>\n",
       "      <td>23</td>\n",
       "      <td>18</td>\n",
       "      <td>9</td>\n",
       "    </tr>\n",
       "    <tr>\n",
       "      <th>1</th>\n",
       "      <td>Bob</td>\n",
       "      <td>20</td>\n",
       "      <td>14</td>\n",
       "      <td>6</td>\n",
       "      <td>24</td>\n",
       "    </tr>\n",
       "    <tr>\n",
       "      <th>2</th>\n",
       "      <td>Yolanda</td>\n",
       "      <td>19</td>\n",
       "      <td>10</td>\n",
       "      <td>28</td>\n",
       "      <td>17</td>\n",
       "    </tr>\n",
       "    <tr>\n",
       "      <th>3</th>\n",
       "      <td>Xerxes</td>\n",
       "      <td>11</td>\n",
       "      <td>27</td>\n",
       "      <td>17</td>\n",
       "      <td>9</td>\n",
       "    </tr>\n",
       "  </tbody>\n",
       "</table>\n",
       "</div>"
      ],
      "text/plain": [
       "  Salesperson  Compact  Sedan  SUV  Truck\n",
       "0         Ann       22     18   15     12\n",
       "1         Bob       19     12   17     20\n",
       "2     Yolanda       19      8   32     15\n",
       "3      Xerxes       12     23   18      9\n",
       "1         Bob       20     14    6     24\n",
       "2     Yolanda       19     10   28     17\n",
       "3      Xerxes       11     27   17      9"
      ]
     },
     "execution_count": 109,
     "metadata": {},
     "output_type": "execute_result"
    }
   ],
   "source": [
    "sales_may >> union(sales_apr)"
   ]
  },
  {
   "cell_type": "markdown",
   "metadata": {
    "slideshow": {
     "slide_type": "slide"
    }
   },
   "source": [
    "## `dfply.union` is distinct\n",
    "\n",
    "Since Ann have the same sales each month, her row only included one row.  Note that we can use `keep='last'` to `keep='first'` to determine which row is kept."
   ]
  },
  {
   "cell_type": "code",
   "execution_count": 110,
   "metadata": {
    "scrolled": false,
    "slideshow": {
     "slide_type": "fragment"
    }
   },
   "outputs": [
    {
     "data": {
      "text/html": [
       "<div>\n",
       "<style scoped>\n",
       "    .dataframe tbody tr th:only-of-type {\n",
       "        vertical-align: middle;\n",
       "    }\n",
       "\n",
       "    .dataframe tbody tr th {\n",
       "        vertical-align: top;\n",
       "    }\n",
       "\n",
       "    .dataframe thead th {\n",
       "        text-align: right;\n",
       "    }\n",
       "</style>\n",
       "<table border=\"1\" class=\"dataframe\">\n",
       "  <thead>\n",
       "    <tr style=\"text-align: right;\">\n",
       "      <th></th>\n",
       "      <th>Salesperson</th>\n",
       "      <th>Compact</th>\n",
       "      <th>Sedan</th>\n",
       "      <th>SUV</th>\n",
       "      <th>Truck</th>\n",
       "    </tr>\n",
       "  </thead>\n",
       "  <tbody>\n",
       "    <tr>\n",
       "      <th>1</th>\n",
       "      <td>Bob</td>\n",
       "      <td>19</td>\n",
       "      <td>12</td>\n",
       "      <td>17</td>\n",
       "      <td>20</td>\n",
       "    </tr>\n",
       "    <tr>\n",
       "      <th>2</th>\n",
       "      <td>Yolanda</td>\n",
       "      <td>19</td>\n",
       "      <td>8</td>\n",
       "      <td>32</td>\n",
       "      <td>15</td>\n",
       "    </tr>\n",
       "    <tr>\n",
       "      <th>3</th>\n",
       "      <td>Xerxes</td>\n",
       "      <td>12</td>\n",
       "      <td>23</td>\n",
       "      <td>18</td>\n",
       "      <td>9</td>\n",
       "    </tr>\n",
       "    <tr>\n",
       "      <th>0</th>\n",
       "      <td>Ann</td>\n",
       "      <td>22</td>\n",
       "      <td>18</td>\n",
       "      <td>15</td>\n",
       "      <td>12</td>\n",
       "    </tr>\n",
       "    <tr>\n",
       "      <th>1</th>\n",
       "      <td>Bob</td>\n",
       "      <td>20</td>\n",
       "      <td>14</td>\n",
       "      <td>6</td>\n",
       "      <td>24</td>\n",
       "    </tr>\n",
       "    <tr>\n",
       "      <th>2</th>\n",
       "      <td>Yolanda</td>\n",
       "      <td>19</td>\n",
       "      <td>10</td>\n",
       "      <td>28</td>\n",
       "      <td>17</td>\n",
       "    </tr>\n",
       "    <tr>\n",
       "      <th>3</th>\n",
       "      <td>Xerxes</td>\n",
       "      <td>11</td>\n",
       "      <td>27</td>\n",
       "      <td>17</td>\n",
       "      <td>9</td>\n",
       "    </tr>\n",
       "  </tbody>\n",
       "</table>\n",
       "</div>"
      ],
      "text/plain": [
       "  Salesperson  Compact  Sedan  SUV  Truck\n",
       "1         Bob       19     12   17     20\n",
       "2     Yolanda       19      8   32     15\n",
       "3      Xerxes       12     23   18      9\n",
       "0         Ann       22     18   15     12\n",
       "1         Bob       20     14    6     24\n",
       "2     Yolanda       19     10   28     17\n",
       "3      Xerxes       11     27   17      9"
      ]
     },
     "execution_count": 110,
     "metadata": {},
     "output_type": "execute_result"
    }
   ],
   "source": [
    "sales_may >> union(sales_apr, keep='last')"
   ]
  },
  {
   "cell_type": "markdown",
   "metadata": {
    "slideshow": {
     "slide_type": "slide"
    }
   },
   "source": [
    "## Making `union_all`\n",
    "\n",
    "We can use `pd.concat` to perform a `UNION ALL`"
   ]
  },
  {
   "cell_type": "code",
   "execution_count": 111,
   "metadata": {
    "slideshow": {
     "slide_type": "fragment"
    }
   },
   "outputs": [
    {
     "data": {
      "text/html": [
       "<div>\n",
       "<style scoped>\n",
       "    .dataframe tbody tr th:only-of-type {\n",
       "        vertical-align: middle;\n",
       "    }\n",
       "\n",
       "    .dataframe tbody tr th {\n",
       "        vertical-align: top;\n",
       "    }\n",
       "\n",
       "    .dataframe thead th {\n",
       "        text-align: right;\n",
       "    }\n",
       "</style>\n",
       "<table border=\"1\" class=\"dataframe\">\n",
       "  <thead>\n",
       "    <tr style=\"text-align: right;\">\n",
       "      <th></th>\n",
       "      <th>Salesperson</th>\n",
       "      <th>Compact</th>\n",
       "      <th>Sedan</th>\n",
       "      <th>SUV</th>\n",
       "      <th>Truck</th>\n",
       "    </tr>\n",
       "  </thead>\n",
       "  <tbody>\n",
       "    <tr>\n",
       "      <th>0</th>\n",
       "      <td>Ann</td>\n",
       "      <td>22</td>\n",
       "      <td>18</td>\n",
       "      <td>15</td>\n",
       "      <td>12</td>\n",
       "    </tr>\n",
       "    <tr>\n",
       "      <th>1</th>\n",
       "      <td>Bob</td>\n",
       "      <td>20</td>\n",
       "      <td>14</td>\n",
       "      <td>6</td>\n",
       "      <td>24</td>\n",
       "    </tr>\n",
       "    <tr>\n",
       "      <th>2</th>\n",
       "      <td>Yolanda</td>\n",
       "      <td>19</td>\n",
       "      <td>10</td>\n",
       "      <td>28</td>\n",
       "      <td>17</td>\n",
       "    </tr>\n",
       "    <tr>\n",
       "      <th>3</th>\n",
       "      <td>Xerxes</td>\n",
       "      <td>11</td>\n",
       "      <td>27</td>\n",
       "      <td>17</td>\n",
       "      <td>9</td>\n",
       "    </tr>\n",
       "    <tr>\n",
       "      <th>4</th>\n",
       "      <td>Ann</td>\n",
       "      <td>22</td>\n",
       "      <td>18</td>\n",
       "      <td>15</td>\n",
       "      <td>12</td>\n",
       "    </tr>\n",
       "    <tr>\n",
       "      <th>5</th>\n",
       "      <td>Bob</td>\n",
       "      <td>19</td>\n",
       "      <td>12</td>\n",
       "      <td>17</td>\n",
       "      <td>20</td>\n",
       "    </tr>\n",
       "    <tr>\n",
       "      <th>6</th>\n",
       "      <td>Yolanda</td>\n",
       "      <td>19</td>\n",
       "      <td>8</td>\n",
       "      <td>32</td>\n",
       "      <td>15</td>\n",
       "    </tr>\n",
       "    <tr>\n",
       "      <th>7</th>\n",
       "      <td>Xerxes</td>\n",
       "      <td>12</td>\n",
       "      <td>23</td>\n",
       "      <td>18</td>\n",
       "      <td>9</td>\n",
       "    </tr>\n",
       "  </tbody>\n",
       "</table>\n",
       "</div>"
      ],
      "text/plain": [
       "  Salesperson  Compact  Sedan  SUV  Truck\n",
       "0         Ann       22     18   15     12\n",
       "1         Bob       20     14    6     24\n",
       "2     Yolanda       19     10   28     17\n",
       "3      Xerxes       11     27   17      9\n",
       "4         Ann       22     18   15     12\n",
       "5         Bob       19     12   17     20\n",
       "6     Yolanda       19      8   32     15\n",
       "7      Xerxes       12     23   18      9"
      ]
     },
     "execution_count": 111,
     "metadata": {},
     "output_type": "execute_result"
    }
   ],
   "source": [
    "pd.concat([sales_apr, sales_may], ignore_index=True)"
   ]
  },
  {
   "cell_type": "markdown",
   "metadata": {
    "slideshow": {
     "slide_type": "slide"
    }
   },
   "source": [
    "## Making a `dfply.union_all`"
   ]
  },
  {
   "cell_type": "code",
   "execution_count": 112,
   "metadata": {
    "slideshow": {
     "slide_type": "fragment"
    }
   },
   "outputs": [],
   "source": [
    "@dfpipe\n",
    "def union_all(left_df, right_df, ignore_index=True):\n",
    "    return pd.concat([left_df, right_df], ignore_index=ignore_index)"
   ]
  },
  {
   "cell_type": "code",
   "execution_count": 113,
   "metadata": {
    "slideshow": {
     "slide_type": "fragment"
    }
   },
   "outputs": [
    {
     "data": {
      "text/html": [
       "<div>\n",
       "<style scoped>\n",
       "    .dataframe tbody tr th:only-of-type {\n",
       "        vertical-align: middle;\n",
       "    }\n",
       "\n",
       "    .dataframe tbody tr th {\n",
       "        vertical-align: top;\n",
       "    }\n",
       "\n",
       "    .dataframe thead th {\n",
       "        text-align: right;\n",
       "    }\n",
       "</style>\n",
       "<table border=\"1\" class=\"dataframe\">\n",
       "  <thead>\n",
       "    <tr style=\"text-align: right;\">\n",
       "      <th></th>\n",
       "      <th>Salesperson</th>\n",
       "      <th>Compact</th>\n",
       "      <th>Sedan</th>\n",
       "      <th>SUV</th>\n",
       "      <th>Truck</th>\n",
       "    </tr>\n",
       "  </thead>\n",
       "  <tbody>\n",
       "    <tr>\n",
       "      <th>0</th>\n",
       "      <td>Ann</td>\n",
       "      <td>22</td>\n",
       "      <td>18</td>\n",
       "      <td>15</td>\n",
       "      <td>12</td>\n",
       "    </tr>\n",
       "    <tr>\n",
       "      <th>1</th>\n",
       "      <td>Bob</td>\n",
       "      <td>19</td>\n",
       "      <td>12</td>\n",
       "      <td>17</td>\n",
       "      <td>20</td>\n",
       "    </tr>\n",
       "    <tr>\n",
       "      <th>2</th>\n",
       "      <td>Yolanda</td>\n",
       "      <td>19</td>\n",
       "      <td>8</td>\n",
       "      <td>32</td>\n",
       "      <td>15</td>\n",
       "    </tr>\n",
       "    <tr>\n",
       "      <th>3</th>\n",
       "      <td>Xerxes</td>\n",
       "      <td>12</td>\n",
       "      <td>23</td>\n",
       "      <td>18</td>\n",
       "      <td>9</td>\n",
       "    </tr>\n",
       "    <tr>\n",
       "      <th>4</th>\n",
       "      <td>Ann</td>\n",
       "      <td>22</td>\n",
       "      <td>18</td>\n",
       "      <td>15</td>\n",
       "      <td>12</td>\n",
       "    </tr>\n",
       "    <tr>\n",
       "      <th>5</th>\n",
       "      <td>Bob</td>\n",
       "      <td>20</td>\n",
       "      <td>14</td>\n",
       "      <td>6</td>\n",
       "      <td>24</td>\n",
       "    </tr>\n",
       "    <tr>\n",
       "      <th>6</th>\n",
       "      <td>Yolanda</td>\n",
       "      <td>19</td>\n",
       "      <td>10</td>\n",
       "      <td>28</td>\n",
       "      <td>17</td>\n",
       "    </tr>\n",
       "    <tr>\n",
       "      <th>7</th>\n",
       "      <td>Xerxes</td>\n",
       "      <td>11</td>\n",
       "      <td>27</td>\n",
       "      <td>17</td>\n",
       "      <td>9</td>\n",
       "    </tr>\n",
       "  </tbody>\n",
       "</table>\n",
       "</div>"
      ],
      "text/plain": [
       "  Salesperson  Compact  Sedan  SUV  Truck\n",
       "0         Ann       22     18   15     12\n",
       "1         Bob       19     12   17     20\n",
       "2     Yolanda       19      8   32     15\n",
       "3      Xerxes       12     23   18      9\n",
       "4         Ann       22     18   15     12\n",
       "5         Bob       20     14    6     24\n",
       "6     Yolanda       19     10   28     17\n",
       "7      Xerxes       11     27   17      9"
      ]
     },
     "execution_count": 113,
     "metadata": {},
     "output_type": "execute_result"
    }
   ],
   "source": [
    "sales_may >> union_all(sales_apr)"
   ]
  },
  {
   "cell_type": "markdown",
   "metadata": {
    "slideshow": {
     "slide_type": "slide"
    }
   },
   "source": [
    "## Adding a month column\n",
    "\n",
    "Another way to keep both of Ann's sales rows is adding a month column (which we should probably do anyway)."
   ]
  },
  {
   "cell_type": "code",
   "execution_count": 10,
   "metadata": {
    "scrolled": false,
    "slideshow": {
     "slide_type": "fragment"
    }
   },
   "outputs": [
    {
     "data": {
      "text/html": [
       "<div>\n",
       "<style scoped>\n",
       "    .dataframe tbody tr th:only-of-type {\n",
       "        vertical-align: middle;\n",
       "    }\n",
       "\n",
       "    .dataframe tbody tr th {\n",
       "        vertical-align: top;\n",
       "    }\n",
       "\n",
       "    .dataframe thead th {\n",
       "        text-align: right;\n",
       "    }\n",
       "</style>\n",
       "<table border=\"1\" class=\"dataframe\">\n",
       "  <thead>\n",
       "    <tr style=\"text-align: right;\">\n",
       "      <th></th>\n",
       "      <th>Salesperson</th>\n",
       "      <th>Compact</th>\n",
       "      <th>Sedan</th>\n",
       "      <th>SUV</th>\n",
       "      <th>Truck</th>\n",
       "      <th>month</th>\n",
       "    </tr>\n",
       "  </thead>\n",
       "  <tbody>\n",
       "    <tr>\n",
       "      <th>0</th>\n",
       "      <td>Ann</td>\n",
       "      <td>22</td>\n",
       "      <td>18</td>\n",
       "      <td>15</td>\n",
       "      <td>12</td>\n",
       "      <td>May</td>\n",
       "    </tr>\n",
       "    <tr>\n",
       "      <th>1</th>\n",
       "      <td>Bob</td>\n",
       "      <td>19</td>\n",
       "      <td>12</td>\n",
       "      <td>17</td>\n",
       "      <td>20</td>\n",
       "      <td>May</td>\n",
       "    </tr>\n",
       "    <tr>\n",
       "      <th>2</th>\n",
       "      <td>Yolanda</td>\n",
       "      <td>19</td>\n",
       "      <td>8</td>\n",
       "      <td>32</td>\n",
       "      <td>15</td>\n",
       "      <td>May</td>\n",
       "    </tr>\n",
       "    <tr>\n",
       "      <th>3</th>\n",
       "      <td>Xerxes</td>\n",
       "      <td>12</td>\n",
       "      <td>23</td>\n",
       "      <td>18</td>\n",
       "      <td>9</td>\n",
       "      <td>May</td>\n",
       "    </tr>\n",
       "    <tr>\n",
       "      <th>0</th>\n",
       "      <td>Ann</td>\n",
       "      <td>22</td>\n",
       "      <td>18</td>\n",
       "      <td>15</td>\n",
       "      <td>12</td>\n",
       "      <td>April</td>\n",
       "    </tr>\n",
       "    <tr>\n",
       "      <th>1</th>\n",
       "      <td>Bob</td>\n",
       "      <td>20</td>\n",
       "      <td>14</td>\n",
       "      <td>6</td>\n",
       "      <td>24</td>\n",
       "      <td>April</td>\n",
       "    </tr>\n",
       "    <tr>\n",
       "      <th>2</th>\n",
       "      <td>Yolanda</td>\n",
       "      <td>19</td>\n",
       "      <td>10</td>\n",
       "      <td>28</td>\n",
       "      <td>17</td>\n",
       "      <td>April</td>\n",
       "    </tr>\n",
       "    <tr>\n",
       "      <th>3</th>\n",
       "      <td>Xerxes</td>\n",
       "      <td>11</td>\n",
       "      <td>27</td>\n",
       "      <td>17</td>\n",
       "      <td>9</td>\n",
       "      <td>April</td>\n",
       "    </tr>\n",
       "  </tbody>\n",
       "</table>\n",
       "</div>"
      ],
      "text/plain": [
       "  Salesperson  Compact  Sedan  SUV  Truck  month\n",
       "0         Ann       22     18   15     12    May\n",
       "1         Bob       19     12   17     20    May\n",
       "2     Yolanda       19      8   32     15    May\n",
       "3      Xerxes       12     23   18      9    May\n",
       "0         Ann       22     18   15     12  April\n",
       "1         Bob       20     14    6     24  April\n",
       "2     Yolanda       19     10   28     17  April\n",
       "3      Xerxes       11     27   17      9  April"
      ]
     },
     "execution_count": 10,
     "metadata": {},
     "output_type": "execute_result"
    }
   ],
   "source": [
    "sales_may >> mutate(month = 'May') >> union(sales_apr >> mutate(month = 'April'))"
   ]
  },
  {
   "cell_type": "markdown",
   "metadata": {
    "slideshow": {
     "slide_type": "slide"
    }
   },
   "source": [
    "## Finding common rows with `dfply.intersect`"
   ]
  },
  {
   "cell_type": "code",
   "execution_count": 11,
   "metadata": {
    "slideshow": {
     "slide_type": "fragment"
    }
   },
   "outputs": [
    {
     "data": {
      "text/html": [
       "<div>\n",
       "<style scoped>\n",
       "    .dataframe tbody tr th:only-of-type {\n",
       "        vertical-align: middle;\n",
       "    }\n",
       "\n",
       "    .dataframe tbody tr th {\n",
       "        vertical-align: top;\n",
       "    }\n",
       "\n",
       "    .dataframe thead th {\n",
       "        text-align: right;\n",
       "    }\n",
       "</style>\n",
       "<table border=\"1\" class=\"dataframe\">\n",
       "  <thead>\n",
       "    <tr style=\"text-align: right;\">\n",
       "      <th></th>\n",
       "      <th>Salesperson</th>\n",
       "      <th>Compact</th>\n",
       "      <th>Sedan</th>\n",
       "      <th>SUV</th>\n",
       "      <th>Truck</th>\n",
       "    </tr>\n",
       "  </thead>\n",
       "  <tbody>\n",
       "    <tr>\n",
       "      <th>0</th>\n",
       "      <td>Ann</td>\n",
       "      <td>22</td>\n",
       "      <td>18</td>\n",
       "      <td>15</td>\n",
       "      <td>12</td>\n",
       "    </tr>\n",
       "  </tbody>\n",
       "</table>\n",
       "</div>"
      ],
      "text/plain": [
       "  Salesperson  Compact  Sedan  SUV  Truck\n",
       "0         Ann       22     18   15     12"
      ]
     },
     "execution_count": 11,
     "metadata": {},
     "output_type": "execute_result"
    }
   ],
   "source": [
    "sales_may >> intersect(sales_apr)"
   ]
  },
  {
   "cell_type": "markdown",
   "metadata": {
    "slideshow": {
     "slide_type": "slide"
    }
   },
   "source": [
    "## Finding rows unique to the left table.\n",
    "\n",
    "Use `left_table >> dfply.set_diff(right_table)`"
   ]
  },
  {
   "cell_type": "code",
   "execution_count": 12,
   "metadata": {
    "scrolled": false,
    "slideshow": {
     "slide_type": "fragment"
    }
   },
   "outputs": [
    {
     "data": {
      "text/html": [
       "<div>\n",
       "<style scoped>\n",
       "    .dataframe tbody tr th:only-of-type {\n",
       "        vertical-align: middle;\n",
       "    }\n",
       "\n",
       "    .dataframe tbody tr th {\n",
       "        vertical-align: top;\n",
       "    }\n",
       "\n",
       "    .dataframe thead th {\n",
       "        text-align: right;\n",
       "    }\n",
       "</style>\n",
       "<table border=\"1\" class=\"dataframe\">\n",
       "  <thead>\n",
       "    <tr style=\"text-align: right;\">\n",
       "      <th></th>\n",
       "      <th>Salesperson</th>\n",
       "      <th>Compact</th>\n",
       "      <th>Sedan</th>\n",
       "      <th>SUV</th>\n",
       "      <th>Truck</th>\n",
       "    </tr>\n",
       "  </thead>\n",
       "  <tbody>\n",
       "    <tr>\n",
       "      <th>1</th>\n",
       "      <td>Bob</td>\n",
       "      <td>19</td>\n",
       "      <td>12</td>\n",
       "      <td>17</td>\n",
       "      <td>20</td>\n",
       "    </tr>\n",
       "    <tr>\n",
       "      <th>2</th>\n",
       "      <td>Yolanda</td>\n",
       "      <td>19</td>\n",
       "      <td>8</td>\n",
       "      <td>32</td>\n",
       "      <td>15</td>\n",
       "    </tr>\n",
       "    <tr>\n",
       "      <th>3</th>\n",
       "      <td>Xerxes</td>\n",
       "      <td>12</td>\n",
       "      <td>23</td>\n",
       "      <td>18</td>\n",
       "      <td>9</td>\n",
       "    </tr>\n",
       "  </tbody>\n",
       "</table>\n",
       "</div>"
      ],
      "text/plain": [
       "  Salesperson  Compact  Sedan  SUV  Truck\n",
       "1         Bob       19     12   17     20\n",
       "2     Yolanda       19      8   32     15\n",
       "3      Xerxes       12     23   18      9"
      ]
     },
     "execution_count": 12,
     "metadata": {},
     "output_type": "execute_result"
    }
   ],
   "source": [
    "sales_may >> set_diff(sales_apr)"
   ]
  },
  {
   "cell_type": "markdown",
   "metadata": {
    "slideshow": {
     "slide_type": "slide"
    }
   },
   "source": [
    "## <font color=\"red\"> Exercise 1 </font>\n",
    "\n",
    "In the data folder, you will find 6 files that contain a sample 100,000 rows from the uber data for the month apr14-sep14.  Perform the following tasks:\n",
    "\n",
    "1. Use `glob` to get all 6 file paths.\n",
    "2. Use a regular expression to create a `lambda` function that pulls the month from the files.\n",
    "3. Read the 6 data frames into a `dict` with keys equal to the month name and values containing the corresponding data frame.\n",
    "4. Write a helper function that adds a month column each dictionary.  Use a dictionary comprehension to apply this helper to each `df`.\n",
    "5. Use the accumulator pattern and `dfply.union` to combine these 6 data frames into one combined `df`\n",
    "6. Inspect the head and shape of the resulting `df`"
   ]
  },
  {
   "cell_type": "code",
   "execution_count": 18,
   "metadata": {
    "slideshow": {
     "slide_type": "fragment"
    }
   },
   "outputs": [
    {
     "data": {
      "text/plain": [
       "['./data/uber/uber-trip-data/uber-raw-data-apr14.csv',\n",
       " './data/uber/uber-trip-data/uber-raw-data-aug14.csv',\n",
       " './data/uber/uber-trip-data/uber-raw-data-sep14.csv',\n",
       " './data/uber/uber-trip-data/uber-raw-data-jul14.csv',\n",
       " './data/uber/uber-trip-data/uber-raw-data-jun14.csv',\n",
       " './data/uber/uber-trip-data/uber-raw-data-may14.csv']"
      ]
     },
     "execution_count": 18,
     "metadata": {},
     "output_type": "execute_result"
    }
   ],
   "source": [
    "1. #reading files using glob\n",
    "from glob import glob\n",
    "files = glob('./data/uber/uber-trip-data/uber-*.csv')\n",
    "files = files[1:]\n",
    "files"
   ]
  },
  {
   "cell_type": "code",
   "execution_count": 20,
   "metadata": {},
   "outputs": [
    {
     "data": {
      "text/plain": [
       "<function __main__.<lambda>(file)>"
      ]
     },
     "execution_count": 20,
     "metadata": {},
     "output_type": "execute_result"
    }
   ],
   "source": [
    "2. #lambda function for file name\n",
    "import re\n",
    "pattern = r'./data/uber/uber-trip-data/uber-raw-data-(\\w{3})\\d+\\.csv$'\n",
    "month_name = lambda file: re.compile(pattern).match(file).group(1)\n",
    "month_name"
   ]
  },
  {
   "cell_type": "code",
   "execution_count": 25,
   "metadata": {},
   "outputs": [
    {
     "data": {
      "text/plain": [
       "['apr', 'aug', 'sep', 'jul', 'jun', 'may']"
      ]
     },
     "execution_count": 25,
     "metadata": {},
     "output_type": "execute_result"
    }
   ],
   "source": [
    "file_name_list = [month_name(file) for file in files]\n",
    "   \n",
    "file_name_list"
   ]
  },
  {
   "cell_type": "code",
   "execution_count": 26,
   "metadata": {},
   "outputs": [
    {
     "data": {
      "text/plain": [
       "{'apr':                  Date/Time      Lat      Lon    Base\n",
       " 0         4/1/2014 0:11:00  40.7690 -73.9549  B02512\n",
       " 1         4/1/2014 0:17:00  40.7267 -74.0345  B02512\n",
       " 2         4/1/2014 0:21:00  40.7316 -73.9873  B02512\n",
       " 3         4/1/2014 0:28:00  40.7588 -73.9776  B02512\n",
       " 4         4/1/2014 0:33:00  40.7594 -73.9722  B02512\n",
       " 5         4/1/2014 0:33:00  40.7383 -74.0403  B02512\n",
       " 6         4/1/2014 0:39:00  40.7223 -73.9887  B02512\n",
       " 7         4/1/2014 0:45:00  40.7620 -73.9790  B02512\n",
       " 8         4/1/2014 0:55:00  40.7524 -73.9960  B02512\n",
       " 9         4/1/2014 1:01:00  40.7575 -73.9846  B02512\n",
       " 10        4/1/2014 1:19:00  40.7256 -73.9869  B02512\n",
       " 11        4/1/2014 1:48:00  40.7591 -73.9684  B02512\n",
       " 12        4/1/2014 1:49:00  40.7271 -73.9803  B02512\n",
       " 13        4/1/2014 2:11:00  40.6463 -73.7896  B02512\n",
       " 14        4/1/2014 2:25:00  40.7564 -73.9167  B02512\n",
       " 15        4/1/2014 2:31:00  40.7666 -73.9531  B02512\n",
       " 16        4/1/2014 2:43:00  40.7580 -73.9761  B02512\n",
       " 17        4/1/2014 3:22:00  40.7238 -73.9821  B02512\n",
       " 18        4/1/2014 3:35:00  40.7531 -74.0039  B02512\n",
       " 19        4/1/2014 3:35:00  40.7389 -74.0393  B02512\n",
       " 20        4/1/2014 3:41:00  40.7619 -73.9715  B02512\n",
       " 21        4/1/2014 4:11:00  40.7530 -74.0042  B02512\n",
       " 22        4/1/2014 4:15:00  40.6561 -73.9531  B02512\n",
       " 23        4/1/2014 4:19:00  40.7250 -73.9844  B02512\n",
       " 24        4/1/2014 4:20:00  40.6950 -74.1783  B02512\n",
       " 25        4/1/2014 4:26:00  40.9859 -74.1578  B02512\n",
       " 26        4/1/2014 4:27:00  40.6879 -74.1814  B02512\n",
       " 27        4/1/2014 4:38:00  40.6878 -74.1816  B02512\n",
       " 28        4/1/2014 4:47:00  40.7234 -73.9974  B02512\n",
       " 29        4/1/2014 4:49:00  40.7336 -73.9900  B02512\n",
       " ...                    ...      ...      ...     ...\n",
       " 564486  4/30/2014 22:25:00  40.7342 -74.0101  B02764\n",
       " 564487  4/30/2014 22:25:00  40.7412 -73.9792  B02764\n",
       " 564488  4/30/2014 22:25:00  40.7633 -73.9867  B02764\n",
       " 564489  4/30/2014 22:26:00  40.7549 -73.9845  B02764\n",
       " 564490  4/30/2014 22:27:00  40.7210 -73.9850  B02764\n",
       " 564491  4/30/2014 22:27:00  40.7025 -74.0127  B02764\n",
       " 564492  4/30/2014 22:28:00  40.7568 -73.9848  B02764\n",
       " 564493  4/30/2014 22:29:00  40.7446 -73.9837  B02764\n",
       " 564494  4/30/2014 22:32:00  40.7013 -73.9367  B02764\n",
       " 564495  4/30/2014 22:35:00  40.7213 -73.9948  B02764\n",
       " 564496  4/30/2014 22:36:00  40.7587 -73.9723  B02764\n",
       " 564497  4/30/2014 22:42:00  40.7325 -73.9969  B02764\n",
       " 564498  4/30/2014 22:46:00  40.8152 -73.9433  B02764\n",
       " 564499  4/30/2014 22:47:00  40.7643 -73.9868  B02764\n",
       " 564500  4/30/2014 22:50:00  40.7650 -73.9773  B02764\n",
       " 564501  4/30/2014 22:51:00  40.7436 -73.9848  B02764\n",
       " 564502  4/30/2014 22:56:00  40.7313 -73.9940  B02764\n",
       " 564503  4/30/2014 22:57:00  40.8007 -73.9565  B02764\n",
       " 564504  4/30/2014 22:58:00  40.7603 -73.9870  B02764\n",
       " 564505  4/30/2014 22:58:00  40.7419 -73.9866  B02764\n",
       " 564506  4/30/2014 23:00:00  40.7316 -73.9891  B02764\n",
       " 564507  4/30/2014 23:04:00  40.7267 -73.9937  B02764\n",
       " 564508  4/30/2014 23:05:00  40.7788 -73.9600  B02764\n",
       " 564509  4/30/2014 23:15:00  40.7420 -74.0037  B02764\n",
       " 564510  4/30/2014 23:18:00  40.7514 -74.0066  B02764\n",
       " 564511  4/30/2014 23:22:00  40.7640 -73.9744  B02764\n",
       " 564512  4/30/2014 23:26:00  40.7629 -73.9672  B02764\n",
       " 564513  4/30/2014 23:31:00  40.7443 -73.9889  B02764\n",
       " 564514  4/30/2014 23:32:00  40.6756 -73.9405  B02764\n",
       " 564515  4/30/2014 23:48:00  40.6880 -73.9608  B02764\n",
       " \n",
       " [564516 rows x 4 columns],\n",
       " 'aug':                  Date/Time      Lat      Lon    Base\n",
       " 0         8/1/2014 0:03:00  40.7366 -73.9906  B02512\n",
       " 1         8/1/2014 0:09:00  40.7260 -73.9918  B02512\n",
       " 2         8/1/2014 0:12:00  40.7209 -74.0507  B02512\n",
       " 3         8/1/2014 0:12:00  40.7387 -73.9856  B02512\n",
       " 4         8/1/2014 0:12:00  40.7323 -74.0077  B02512\n",
       " 5         8/1/2014 0:13:00  40.7349 -74.0033  B02512\n",
       " 6         8/1/2014 0:15:00  40.7279 -73.9542  B02512\n",
       " 7         8/1/2014 0:17:00  40.7210 -73.9937  B02512\n",
       " 8         8/1/2014 0:19:00  40.7195 -74.0060  B02512\n",
       " 9         8/1/2014 0:20:00  40.7448 -73.9799  B02512\n",
       " 10        8/1/2014 0:21:00  40.7399 -74.0057  B02512\n",
       " 11        8/1/2014 0:25:00  40.7651 -73.9683  B02512\n",
       " 12        8/1/2014 0:27:00  40.7354 -74.0081  B02512\n",
       " 13        8/1/2014 0:29:00  40.7339 -74.0028  B02512\n",
       " 14        8/1/2014 0:29:00  40.7364 -74.0301  B02512\n",
       " 15        8/1/2014 0:29:00  40.7364 -74.0301  B02512\n",
       " 16        8/1/2014 0:30:00  40.7252 -73.9516  B02512\n",
       " 17        8/1/2014 0:30:00  40.7433 -73.9860  B02512\n",
       " 18        8/1/2014 0:34:00  40.7437 -73.9884  B02512\n",
       " 19        8/1/2014 0:36:00  40.7406 -74.0077  B02512\n",
       " 20        8/1/2014 0:48:00  40.7421 -74.0002  B02512\n",
       " 21        8/1/2014 0:52:00  40.7394 -74.0069  B02512\n",
       " 22        8/1/2014 0:53:00  40.7153 -73.9666  B02512\n",
       " 23        8/1/2014 0:54:00  40.6888 -73.9853  B02512\n",
       " 24        8/1/2014 0:54:00  40.7194 -74.0428  B02512\n",
       " 25        8/1/2014 0:55:00  40.7562 -73.9714  B02512\n",
       " 26        8/1/2014 0:58:00  40.7601 -73.9839  B02512\n",
       " 27        8/1/2014 1:01:00  40.7585 -73.9732  B02512\n",
       " 28        8/1/2014 1:08:00  40.7711 -73.9832  B02512\n",
       " 29        8/1/2014 1:09:00  40.7133 -74.0092  B02512\n",
       " ...                    ...      ...      ...     ...\n",
       " 829245  8/31/2014 23:47:00  40.7093 -73.9371  B02764\n",
       " 829246  8/31/2014 23:48:00  40.7077 -74.0019  B02764\n",
       " 829247  8/31/2014 23:48:00  40.6917 -73.9573  B02764\n",
       " 829248  8/31/2014 23:48:00  40.7455 -73.8888  B02764\n",
       " 829249  8/31/2014 23:48:00  40.6310 -73.9339  B02764\n",
       " 829250  8/31/2014 23:49:00  40.7450 -73.9785  B02764\n",
       " 829251  8/31/2014 23:49:00  40.7318 -73.9880  B02764\n",
       " 829252  8/31/2014 23:50:00  40.6841 -73.8067  B02764\n",
       " 829253  8/31/2014 23:50:00  40.7319 -73.9859  B02764\n",
       " 829254  8/31/2014 23:50:00  40.6780 -73.9722  B02764\n",
       " 829255  8/31/2014 23:50:00  40.7031 -73.9909  B02764\n",
       " 829256  8/31/2014 23:50:00  40.7260 -73.9520  B02764\n",
       " 829257  8/31/2014 23:51:00  40.7429 -73.9772  B02764\n",
       " 829258  8/31/2014 23:52:00  40.7354 -73.9921  B02764\n",
       " 829259  8/31/2014 23:52:00  40.7585 -73.9851  B02764\n",
       " 829260  8/31/2014 23:52:00  40.7585 -73.9851  B02764\n",
       " 829261  8/31/2014 23:52:00  40.7644 -73.9872  B02764\n",
       " 829262  8/31/2014 23:52:00  40.8073 -73.9643  B02764\n",
       " 829263  8/31/2014 23:53:00  40.7120 -73.9631  B02764\n",
       " 829264  8/31/2014 23:54:00  40.6467 -73.7894  B02764\n",
       " 829265  8/31/2014 23:54:00  40.6423 -73.7885  B02764\n",
       " 829266  8/31/2014 23:54:00  40.7142 -73.9419  B02764\n",
       " 829267  8/31/2014 23:54:00  40.7685 -73.9241  B02764\n",
       " 829268  8/31/2014 23:54:00  40.7032 -73.9909  B02764\n",
       " 829269  8/31/2014 23:55:00  40.7267 -73.9998  B02764\n",
       " 829270  8/31/2014 23:55:00  40.7552 -73.9753  B02764\n",
       " 829271  8/31/2014 23:55:00  40.7552 -73.9753  B02764\n",
       " 829272  8/31/2014 23:55:00  40.7617 -73.9788  B02764\n",
       " 829273  8/31/2014 23:59:00  40.7395 -73.9889  B02764\n",
       " 829274  8/31/2014 23:59:00  40.7270 -73.9802  B02764\n",
       " \n",
       " [829275 rows x 4 columns],\n",
       " 'sep':                   Date/Time      Lat      Lon    Base\n",
       " 0          9/1/2014 0:01:00  40.2201 -74.0021  B02512\n",
       " 1          9/1/2014 0:01:00  40.7500 -74.0027  B02512\n",
       " 2          9/1/2014 0:03:00  40.7559 -73.9864  B02512\n",
       " 3          9/1/2014 0:06:00  40.7450 -73.9889  B02512\n",
       " 4          9/1/2014 0:11:00  40.8145 -73.9444  B02512\n",
       " 5          9/1/2014 0:12:00  40.6735 -73.9918  B02512\n",
       " 6          9/1/2014 0:15:00  40.7471 -73.6472  B02512\n",
       " 7          9/1/2014 0:16:00  40.6613 -74.2691  B02512\n",
       " 8          9/1/2014 0:32:00  40.3745 -73.9999  B02512\n",
       " 9          9/1/2014 0:33:00  40.7633 -73.9773  B02512\n",
       " 10         9/1/2014 0:33:00  40.7467 -73.6131  B02512\n",
       " 11         9/1/2014 0:37:00  40.8105 -73.9600  B02512\n",
       " 12         9/1/2014 0:38:00  40.6790 -74.0111  B02512\n",
       " 13         9/1/2014 0:39:00  40.4023 -73.9839  B02512\n",
       " 14         9/1/2014 0:48:00  40.7378 -74.0395  B02512\n",
       " 15         9/1/2014 0:48:00  40.7214 -73.9884  B02512\n",
       " 16         9/1/2014 0:49:00  40.8646 -73.9081  B02512\n",
       " 17         9/1/2014 1:08:00  40.7398 -74.0061  B02512\n",
       " 18         9/1/2014 1:17:00  40.6793 -74.0116  B02512\n",
       " 19         9/1/2014 1:19:00  40.7328 -73.9875  B02512\n",
       " 20         9/1/2014 1:39:00  40.6743 -73.9334  B02512\n",
       " 21         9/1/2014 1:41:00  40.7638 -73.9962  B02512\n",
       " 22         9/1/2014 2:03:00  40.7638 -73.9811  B02512\n",
       " 23         9/1/2014 2:13:00  40.7415 -73.9975  B02512\n",
       " 24         9/1/2014 2:33:00  40.7445 -73.9855  B02512\n",
       " 25         9/1/2014 2:39:00  40.6614 -73.9409  B02512\n",
       " 26         9/1/2014 2:41:00  40.7494 -73.9946  B02512\n",
       " 27         9/1/2014 3:18:00  40.7529 -74.0040  B02512\n",
       " 28         9/1/2014 4:01:00  41.0319 -74.1813  B02512\n",
       " 29         9/1/2014 4:06:00  40.7983 -73.9628  B02512\n",
       " ...                     ...      ...      ...     ...\n",
       " 1028106  9/30/2014 22:49:00  40.7079 -74.0061  B02764\n",
       " 1028107  9/30/2014 22:50:00  40.7775 -73.9468  B02764\n",
       " 1028108  9/30/2014 22:51:00  40.7383 -73.9923  B02764\n",
       " 1028109  9/30/2014 22:51:00  40.6596 -73.9479  B02764\n",
       " 1028110  9/30/2014 22:51:00  40.7130 -73.7976  B02764\n",
       " 1028111  9/30/2014 22:51:00  40.7480 -74.0007  B02764\n",
       " 1028112  9/30/2014 22:51:00  40.7109 -73.9337  B02764\n",
       " 1028113  9/30/2014 22:52:00  40.8287 -73.9488  B02764\n",
       " 1028114  9/30/2014 22:52:00  40.7452 -73.9278  B02764\n",
       " 1028115  9/30/2014 22:52:00  40.7517 -73.9866  B02764\n",
       " 1028116  9/30/2014 22:53:00  40.7724 -73.9587  B02764\n",
       " 1028117  9/30/2014 22:53:00  40.7234 -73.9913  B02764\n",
       " 1028118  9/30/2014 22:53:00  40.7417 -74.0038  B02764\n",
       " 1028119  9/30/2014 22:53:00  40.7509 -73.9785  B02764\n",
       " 1028120  9/30/2014 22:53:00  40.7588 -73.9721  B02764\n",
       " 1028121  9/30/2014 22:54:00  40.6932 -73.9693  B02764\n",
       " 1028122  9/30/2014 22:54:00  40.7273 -74.0057  B02764\n",
       " 1028123  9/30/2014 22:54:00  40.7594 -73.9820  B02764\n",
       " 1028124  9/30/2014 22:55:00  40.7520 -74.0027  B02764\n",
       " 1028125  9/30/2014 22:55:00  40.7205 -73.9571  B02764\n",
       " 1028126  9/30/2014 22:56:00  40.7371 -74.0289  B02764\n",
       " 1028127  9/30/2014 22:56:00  40.6446 -73.7823  B02764\n",
       " 1028128  9/30/2014 22:56:00  40.7163 -73.9623  B02764\n",
       " 1028129  9/30/2014 22:57:00  40.6979 -73.9365  B02764\n",
       " 1028130  9/30/2014 22:57:00  40.7300 -73.9565  B02764\n",
       " 1028131  9/30/2014 22:57:00  40.7668 -73.9845  B02764\n",
       " 1028132  9/30/2014 22:57:00  40.6911 -74.1773  B02764\n",
       " 1028133  9/30/2014 22:58:00  40.8519 -73.9319  B02764\n",
       " 1028134  9/30/2014 22:58:00  40.7081 -74.0066  B02764\n",
       " 1028135  9/30/2014 22:58:00  40.7140 -73.9496  B02764\n",
       " \n",
       " [1028136 rows x 4 columns],\n",
       " 'jul':                  Date/Time      Lat      Lon    Base\n",
       " 0         7/1/2014 0:03:00  40.7586 -73.9706  B02512\n",
       " 1         7/1/2014 0:05:00  40.7605 -73.9994  B02512\n",
       " 2         7/1/2014 0:06:00  40.7320 -73.9999  B02512\n",
       " 3         7/1/2014 0:09:00  40.7635 -73.9793  B02512\n",
       " 4         7/1/2014 0:20:00  40.7204 -74.0047  B02512\n",
       " 5         7/1/2014 0:35:00  40.7487 -73.9869  B02512\n",
       " 6         7/1/2014 0:57:00  40.7444 -73.9961  B02512\n",
       " 7         7/1/2014 0:58:00  40.7132 -73.9492  B02512\n",
       " 8         7/1/2014 1:04:00  40.7590 -73.9730  B02512\n",
       " 9         7/1/2014 1:08:00  40.7601 -73.9823  B02512\n",
       " 10        7/1/2014 1:12:00  40.6951 -74.1784  B02512\n",
       " 11        7/1/2014 1:23:00  40.7203 -73.9992  B02512\n",
       " 12        7/1/2014 1:45:00  40.7575 -73.9721  B02512\n",
       " 13        7/1/2014 2:07:00  40.7471 -73.9872  B02512\n",
       " 14        7/1/2014 2:48:00  40.7808 -73.9565  B02512\n",
       " 15        7/1/2014 3:11:00  40.7624 -73.9786  B02512\n",
       " 16        7/1/2014 3:14:00  40.8150 -73.9095  B02512\n",
       " 17        7/1/2014 3:20:00  40.7498 -73.9813  B02512\n",
       " 18        7/1/2014 3:28:00  40.7623 -73.9797  B02512\n",
       " 19        7/1/2014 3:38:00  40.7274 -73.9904  B02512\n",
       " 20        7/1/2014 3:41:00  40.9131 -73.8969  B02512\n",
       " 21        7/1/2014 3:53:00  40.8048 -73.9570  B02512\n",
       " 22        7/1/2014 4:01:00  40.7861 -74.0088  B02512\n",
       " 23        7/1/2014 4:09:00  40.7203 -73.9928  B02512\n",
       " 24        7/1/2014 4:21:00  40.7679 -73.9918  B02512\n",
       " 25        7/1/2014 4:47:00  40.6879 -74.1816  B02512\n",
       " 26        7/1/2014 4:52:00  40.7608 -73.9988  B02512\n",
       " 27        7/1/2014 5:03:00  40.6879 -74.1815  B02512\n",
       " 28        7/1/2014 5:07:00  40.7134 -73.9928  B02512\n",
       " 29        7/1/2014 5:12:00  40.7758 -73.9837  B02512\n",
       " ...                    ...      ...      ...     ...\n",
       " 796091  7/31/2014 21:55:00  40.7411 -73.9979  B02764\n",
       " 796092  7/31/2014 21:57:00  40.7378 -73.9923  B02764\n",
       " 796093  7/31/2014 22:01:00  40.7218 -73.9580  B02764\n",
       " 796094  7/31/2014 22:08:00  40.6901 -73.9492  B02764\n",
       " 796095  7/31/2014 22:12:00  40.7323 -73.9891  B02764\n",
       " 796096  7/31/2014 22:12:00  40.7620 -73.9782  B02764\n",
       " 796097  7/31/2014 22:15:00  40.7166 -74.0100  B02764\n",
       " 796098  7/31/2014 22:19:00  40.9923 -73.6907  B02764\n",
       " 796099  7/31/2014 22:25:00  40.7824 -73.9716  B02764\n",
       " 796100  7/31/2014 22:27:00  40.7092 -73.9371  B02764\n",
       " 796101  7/31/2014 22:29:00  40.7495 -73.9820  B02764\n",
       " 796102  7/31/2014 22:33:00  40.7456 -73.9821  B02764\n",
       " 796103  7/31/2014 22:38:00  40.7312 -74.0041  B02764\n",
       " 796104  7/31/2014 22:38:00  40.7408 -73.9859  B02764\n",
       " 796105  7/31/2014 22:39:00  40.7524 -73.9705  B02764\n",
       " 796106  7/31/2014 22:42:00  40.7353 -74.0018  B02764\n",
       " 796107  7/31/2014 22:44:00  40.7193 -73.9848  B02764\n",
       " 796108  7/31/2014 22:46:00  40.7107 -73.9365  B02764\n",
       " 796109  7/31/2014 22:49:00  40.7241 -73.5870  B02764\n",
       " 796110  7/31/2014 22:51:00  40.7509 -73.9911  B02764\n",
       " 796111  7/31/2014 22:53:00  40.6262 -73.9448  B02764\n",
       " 796112  7/31/2014 22:54:00  40.7617 -73.9650  B02764\n",
       " 796113  7/31/2014 22:56:00  40.7049 -73.9337  B02764\n",
       " 796114  7/31/2014 23:05:00  40.7483 -74.0040  B02764\n",
       " 796115  7/31/2014 23:06:00  40.7332 -73.9934  B02764\n",
       " 796116  7/31/2014 23:22:00  40.7285 -73.9846  B02764\n",
       " 796117  7/31/2014 23:23:00  40.7615 -73.9868  B02764\n",
       " 796118  7/31/2014 23:29:00  40.6770 -73.9515  B02764\n",
       " 796119  7/31/2014 23:30:00  40.7225 -74.0038  B02764\n",
       " 796120  7/31/2014 23:58:00  40.7199 -73.9884  B02764\n",
       " \n",
       " [796121 rows x 4 columns],\n",
       " 'jun':                  Date/Time      Lat      Lon    Base\n",
       " 0         6/1/2014 0:00:00  40.7293 -73.9920  B02512\n",
       " 1         6/1/2014 0:01:00  40.7131 -74.0097  B02512\n",
       " 2         6/1/2014 0:04:00  40.3461 -74.6610  B02512\n",
       " 3         6/1/2014 0:04:00  40.7555 -73.9833  B02512\n",
       " 4         6/1/2014 0:07:00  40.6880 -74.1831  B02512\n",
       " 5         6/1/2014 0:08:00  40.7152 -73.9917  B02512\n",
       " 6         6/1/2014 0:08:00  40.7282 -73.9910  B02512\n",
       " 7         6/1/2014 0:08:00  40.3042 -73.9794  B02512\n",
       " 8         6/1/2014 0:09:00  40.7270 -73.9915  B02512\n",
       " 9         6/1/2014 0:10:00  40.7221 -73.9965  B02512\n",
       " 10        6/1/2014 0:11:00  40.7153 -74.0146  B02512\n",
       " 11        6/1/2014 0:15:00  40.6176 -74.0197  B02512\n",
       " 12        6/1/2014 0:16:00  40.7025 -73.9897  B02512\n",
       " 13        6/1/2014 0:17:00  40.7350 -74.1650  B02512\n",
       " 14        6/1/2014 0:17:00  40.7357 -74.0068  B02512\n",
       " 15        6/1/2014 0:18:00  40.6904 -73.9572  B02512\n",
       " 16        6/1/2014 0:19:00  40.7384 -73.9857  B02512\n",
       " 17        6/1/2014 0:20:00  40.7406 -74.0066  B02512\n",
       " 18        6/1/2014 0:21:00  40.7535 -73.9813  B02512\n",
       " 19        6/1/2014 0:21:00  40.7220 -73.9804  B02512\n",
       " 20        6/1/2014 0:23:00  40.8095 -74.1037  B02512\n",
       " 21        6/1/2014 0:23:00  40.7482 -73.9745  B02512\n",
       " 22        6/1/2014 0:30:00  40.7043 -73.9330  B02512\n",
       " 23        6/1/2014 0:32:00  40.7298 -73.9898  B02512\n",
       " 24        6/1/2014 0:32:00  40.7397 -74.0053  B02512\n",
       " 25        6/1/2014 0:34:00  40.7607 -74.0025  B02512\n",
       " 26        6/1/2014 0:37:00  40.7578 -73.9703  B02512\n",
       " 27        6/1/2014 0:39:00  40.7349 -73.9850  B02512\n",
       " 28        6/1/2014 0:39:00  40.7133 -73.9775  B02512\n",
       " 29        6/1/2014 0:40:00  40.7273 -73.9936  B02512\n",
       " ...                    ...      ...      ...     ...\n",
       " 663814  6/30/2014 19:23:00  40.7608 -73.9744  B02764\n",
       " 663815  6/30/2014 19:30:00  40.7195 -74.0086  B02764\n",
       " 663816  6/30/2014 19:45:00  40.7548 -74.0003  B02764\n",
       " 663817  6/30/2014 20:02:00  40.7179 -74.0032  B02764\n",
       " 663818  6/30/2014 20:05:00  40.7352 -73.9901  B02764\n",
       " 663819  6/30/2014 20:13:00  40.7540 -73.9762  B02764\n",
       " 663820  6/30/2014 20:14:00  40.7572 -73.9846  B02764\n",
       " 663821  6/30/2014 20:30:00  40.7423 -73.9837  B02764\n",
       " 663822  6/30/2014 20:33:00  40.7599 -73.9650  B02764\n",
       " 663823  6/30/2014 20:48:00  40.7641 -73.9716  B02764\n",
       " 663824  6/30/2014 20:54:00  40.7739 -73.7327  B02764\n",
       " 663825  6/30/2014 21:11:00  40.7711 -73.9497  B02764\n",
       " 663826  6/30/2014 21:14:00  40.7386 -73.9935  B02764\n",
       " 663827  6/30/2014 21:19:00  40.7285 -74.0048  B02764\n",
       " 663828  6/30/2014 21:20:00  40.7338 -74.0073  B02764\n",
       " 663829  6/30/2014 21:20:00  40.7364 -73.9908  B02764\n",
       " 663830  6/30/2014 21:25:00  40.7627 -73.9873  B02764\n",
       " 663831  6/30/2014 21:31:00  40.7425 -73.9891  B02764\n",
       " 663832  6/30/2014 21:36:00  40.6749 -73.9566  B02764\n",
       " 663833  6/30/2014 21:51:00  40.7548 -73.9686  B02764\n",
       " 663834  6/30/2014 22:08:00  40.7467 -73.9801  B02764\n",
       " 663835  6/30/2014 22:14:00  40.7141 -73.9974  B02764\n",
       " 663836  6/30/2014 22:25:00  40.7744 -73.9514  B02764\n",
       " 663837  6/30/2014 22:28:00  40.7363 -73.9814  B02764\n",
       " 663838  6/30/2014 22:33:00  40.7740 -73.8727  B02764\n",
       " 663839  6/30/2014 22:40:00  40.7332 -73.9872  B02764\n",
       " 663840  6/30/2014 23:12:00  40.7905 -73.9796  B02764\n",
       " 663841  6/30/2014 23:13:00  40.7640 -73.9887  B02764\n",
       " 663842  6/30/2014 23:15:00  40.7262 -73.9944  B02764\n",
       " 663843  6/30/2014 23:35:00  40.7404 -73.9848  B02764\n",
       " \n",
       " [663844 rows x 4 columns],\n",
       " 'may':                  Date/Time      Lat      Lon    Base\n",
       " 0         5/1/2014 0:02:00  40.7521 -73.9914  B02512\n",
       " 1         5/1/2014 0:06:00  40.6965 -73.9715  B02512\n",
       " 2         5/1/2014 0:15:00  40.7464 -73.9838  B02512\n",
       " 3         5/1/2014 0:17:00  40.7463 -74.0011  B02512\n",
       " 4         5/1/2014 0:17:00  40.7594 -73.9734  B02512\n",
       " 5         5/1/2014 0:20:00  40.7685 -73.8625  B02512\n",
       " 6         5/1/2014 0:21:00  40.7637 -73.9962  B02512\n",
       " 7         5/1/2014 0:21:00  40.7252 -74.0023  B02512\n",
       " 8         5/1/2014 0:25:00  40.7607 -73.9625  B02512\n",
       " 9         5/1/2014 0:25:00  40.7212 -73.9879  B02512\n",
       " 10        5/1/2014 0:29:00  40.7255 -73.9986  B02512\n",
       " 11        5/1/2014 0:32:00  40.6467 -73.7901  B02512\n",
       " 12        5/1/2014 0:40:00  40.7613 -73.9788  B02512\n",
       " 13        5/1/2014 0:56:00  40.7807 -73.9497  B02512\n",
       " 14        5/1/2014 1:00:00  40.7585 -73.9708  B02512\n",
       " 15        5/1/2014 1:02:00  40.7163 -73.9895  B02512\n",
       " 16        5/1/2014 1:06:00  40.7265 -73.9958  B02512\n",
       " 17        5/1/2014 1:13:00  40.7559 -73.9867  B02512\n",
       " 18        5/1/2014 1:13:00  40.7671 -73.9956  B02512\n",
       " 19        5/1/2014 1:20:00  40.7707 -73.9944  B02512\n",
       " 20        5/1/2014 1:22:00  40.7607 -73.9784  B02512\n",
       " 21        5/1/2014 1:25:00  40.7382 -74.0096  B02512\n",
       " 22        5/1/2014 1:26:00  40.7590 -73.9725  B02512\n",
       " 23        5/1/2014 1:27:00  40.7456 -73.9915  B02512\n",
       " 24        5/1/2014 1:28:00  40.7285 -74.0044  B02512\n",
       " 25        5/1/2014 1:32:00  40.7218 -73.9921  B02512\n",
       " 26        5/1/2014 1:45:00  40.7440 -73.9877  B02512\n",
       " 27        5/1/2014 1:48:00  40.7100 -74.0091  B02512\n",
       " 28        5/1/2014 2:00:00  40.7412 -74.0078  B02512\n",
       " 29        5/1/2014 2:13:00  40.7508 -74.0056  B02512\n",
       " ...                    ...      ...      ...     ...\n",
       " 652405  5/31/2014 22:45:00  40.7621 -73.9862  B02764\n",
       " 652406  5/31/2014 22:47:00  40.8025 -73.9643  B02764\n",
       " 652407  5/31/2014 22:51:00  40.7108 -73.9361  B02764\n",
       " 652408  5/31/2014 22:52:00  40.6937 -73.9440  B02764\n",
       " 652409  5/31/2014 22:53:00  40.7396 -73.9980  B02764\n",
       " 652410  5/31/2014 22:54:00  40.6449 -73.7822  B02764\n",
       " 652411  5/31/2014 22:54:00  40.7708 -73.9925  B02764\n",
       " 652412  5/31/2014 22:56:00  40.7781 -73.9852  B02764\n",
       " 652413  5/31/2014 22:58:00  40.7913 -73.9775  B02764\n",
       " 652414  5/31/2014 23:00:00  40.6731 -73.9996  B02764\n",
       " 652415  5/31/2014 23:06:00  40.7342 -73.9988  B02764\n",
       " 652416  5/31/2014 23:09:00  40.7764 -73.9581  B02764\n",
       " 652417  5/31/2014 23:09:00  40.7620 -73.9862  B02764\n",
       " 652418  5/31/2014 23:10:00  40.7646 -73.9622  B02764\n",
       " 652419  5/31/2014 23:12:00  40.7485 -73.9887  B02764\n",
       " 652420  5/31/2014 23:15:00  40.7245 -73.9987  B02764\n",
       " 652421  5/31/2014 23:17:00  40.7565 -73.9829  B02764\n",
       " 652422  5/31/2014 23:20:00  40.7510 -73.9823  B02764\n",
       " 652423  5/31/2014 23:26:00  40.6683 -73.9842  B02764\n",
       " 652424  5/31/2014 23:27:00  40.7481 -73.9167  B02764\n",
       " 652425  5/31/2014 23:27:00  40.7096 -73.9497  B02764\n",
       " 652426  5/31/2014 23:28:00  40.7300 -73.9576  B02764\n",
       " 652427  5/31/2014 23:30:00  40.7448 -73.9952  B02764\n",
       " 652428  5/31/2014 23:34:00  40.7244 -73.9786  B02764\n",
       " 652429  5/31/2014 23:34:00  40.6698 -73.9622  B02764\n",
       " 652430  5/31/2014 23:45:00  40.7309 -74.0014  B02764\n",
       " 652431  5/31/2014 23:52:00  40.7528 -73.9798  B02764\n",
       " 652432  5/31/2014 23:55:00  40.7158 -73.9519  B02764\n",
       " 652433  5/31/2014 23:56:00  40.6961 -73.8997  B02764\n",
       " 652434  5/31/2014 23:59:00  40.7393 -73.9919  B02764\n",
       " \n",
       " [652435 rows x 4 columns]}"
      ]
     },
     "execution_count": 26,
     "metadata": {},
     "output_type": "execute_result"
    }
   ],
   "source": [
    "3. # month name and file dictionary\n",
    "import pandas as pd\n",
    "def read_files(file_list):\n",
    "    file_dict = {month_name(file): pd.read_csv(file) for file in file_list} \n",
    "    return file_dict\n",
    "\n",
    "months_dict = read_files(files)\n",
    "months_dict"
   ]
  },
  {
   "cell_type": "code",
   "execution_count": 29,
   "metadata": {},
   "outputs": [],
   "source": [
    "from dfply import *\n",
    "\n",
    "def add_month(file, name):\n",
    "    added = file >> mutate(month = name)\n",
    "    return added\n",
    "    \n"
   ]
  },
  {
   "cell_type": "code",
   "execution_count": 30,
   "metadata": {},
   "outputs": [],
   "source": [
    "\n",
    "new_dict = {name: add_month(df,name)for name, df in months_dict.items() }"
   ]
  },
  {
   "cell_type": "code",
   "execution_count": 32,
   "metadata": {},
   "outputs": [],
   "source": [
    "from functools import reduce\n",
    "combined_df = reduce(lambda x,y:x>>union(y),new_dict.values())"
   ]
  },
  {
   "cell_type": "code",
   "execution_count": 33,
   "metadata": {},
   "outputs": [
    {
     "data": {
      "text/html": [
       "<div>\n",
       "<style scoped>\n",
       "    .dataframe tbody tr th:only-of-type {\n",
       "        vertical-align: middle;\n",
       "    }\n",
       "\n",
       "    .dataframe tbody tr th {\n",
       "        vertical-align: top;\n",
       "    }\n",
       "\n",
       "    .dataframe thead th {\n",
       "        text-align: right;\n",
       "    }\n",
       "</style>\n",
       "<table border=\"1\" class=\"dataframe\">\n",
       "  <thead>\n",
       "    <tr style=\"text-align: right;\">\n",
       "      <th></th>\n",
       "      <th>Date/Time</th>\n",
       "      <th>Lat</th>\n",
       "      <th>Lon</th>\n",
       "      <th>Base</th>\n",
       "      <th>month</th>\n",
       "    </tr>\n",
       "  </thead>\n",
       "  <tbody>\n",
       "    <tr>\n",
       "      <th>0</th>\n",
       "      <td>4/1/2014 0:11:00</td>\n",
       "      <td>40.7690</td>\n",
       "      <td>-73.9549</td>\n",
       "      <td>B02512</td>\n",
       "      <td>apr</td>\n",
       "    </tr>\n",
       "    <tr>\n",
       "      <th>1</th>\n",
       "      <td>4/1/2014 0:17:00</td>\n",
       "      <td>40.7267</td>\n",
       "      <td>-74.0345</td>\n",
       "      <td>B02512</td>\n",
       "      <td>apr</td>\n",
       "    </tr>\n",
       "    <tr>\n",
       "      <th>2</th>\n",
       "      <td>4/1/2014 0:21:00</td>\n",
       "      <td>40.7316</td>\n",
       "      <td>-73.9873</td>\n",
       "      <td>B02512</td>\n",
       "      <td>apr</td>\n",
       "    </tr>\n",
       "    <tr>\n",
       "      <th>3</th>\n",
       "      <td>4/1/2014 0:28:00</td>\n",
       "      <td>40.7588</td>\n",
       "      <td>-73.9776</td>\n",
       "      <td>B02512</td>\n",
       "      <td>apr</td>\n",
       "    </tr>\n",
       "    <tr>\n",
       "      <th>4</th>\n",
       "      <td>4/1/2014 0:33:00</td>\n",
       "      <td>40.7594</td>\n",
       "      <td>-73.9722</td>\n",
       "      <td>B02512</td>\n",
       "      <td>apr</td>\n",
       "    </tr>\n",
       "  </tbody>\n",
       "</table>\n",
       "</div>"
      ],
      "text/plain": [
       "          Date/Time      Lat      Lon    Base month\n",
       "0  4/1/2014 0:11:00  40.7690 -73.9549  B02512   apr\n",
       "1  4/1/2014 0:17:00  40.7267 -74.0345  B02512   apr\n",
       "2  4/1/2014 0:21:00  40.7316 -73.9873  B02512   apr\n",
       "3  4/1/2014 0:28:00  40.7588 -73.9776  B02512   apr\n",
       "4  4/1/2014 0:33:00  40.7594 -73.9722  B02512   apr"
      ]
     },
     "execution_count": 33,
     "metadata": {},
     "output_type": "execute_result"
    }
   ],
   "source": [
    "combined_df.head()"
   ]
  },
  {
   "cell_type": "code",
   "execution_count": 211,
   "metadata": {},
   "outputs": [
    {
     "data": {
      "text/plain": [
       "(4451746, 5)"
      ]
     },
     "execution_count": 211,
     "metadata": {},
     "output_type": "execute_result"
    }
   ],
   "source": []
  },
  {
   "cell_type": "markdown",
   "metadata": {
    "slideshow": {
     "slide_type": "slide"
    }
   },
   "source": [
    "## Up Next\n",
    "\n",
    "Stuff"
   ]
  }
 ],
 "metadata": {
  "celltoolbar": "Slideshow",
  "kernelspec": {
   "display_name": "Python 3",
   "language": "python",
   "name": "python3"
  },
  "language_info": {
   "codemirror_mode": {
    "name": "ipython",
    "version": 3
   },
   "file_extension": ".py",
   "mimetype": "text/x-python",
   "name": "python",
   "nbconvert_exporter": "python",
   "pygments_lexer": "ipython3",
   "version": "3.6.7"
  }
 },
 "nbformat": 4,
 "nbformat_minor": 2
}
