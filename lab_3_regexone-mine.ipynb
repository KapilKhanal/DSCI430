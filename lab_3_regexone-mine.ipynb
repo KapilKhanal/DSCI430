{
 "cells": [
  {
   "cell_type": "markdown",
   "metadata": {},
   "source": [
    "## Lab 3 - RegExOne\n",
    "\n",
    "In this lab, you will read/work through the examples in [RegExOne](https://regexone.com/) and document and double check your work using the `assert` statements given below. "
   ]
  },
  {
   "cell_type": "markdown",
   "metadata": {},
   "source": [
    "## Lesson 1 - Letters\n",
    "\n",
    "**Tasks:** \n",
    "\n",
    "1. Complete Lesson 1, \n",
    "2. Put your solution in the next cell, and \n",
    "3. Make sure you pass the `assert` statements below."
   ]
  },
  {
   "cell_type": "code",
   "execution_count": 3,
   "metadata": {},
   "outputs": [],
   "source": [
    "import re\n",
    "s1 = 'abcdefg'\n",
    "s2 = 'abcde'\n",
    "s3 = 'abc'\n",
    "lesson_1 = r\"[abc]*\"\n",
    "r1 = re.compile(lesson_1)"
   ]
  },
  {
   "cell_type": "code",
   "execution_count": 4,
   "metadata": {
    "scrolled": true
   },
   "outputs": [],
   "source": [
    "assert r1.match(s1), 'Failed string 1'\n",
    "assert r1.match(s1), 'Failed string 2'\n",
    "assert r1.match(s1), 'Failed string 3'"
   ]
  },
  {
   "cell_type": "markdown",
   "metadata": {},
   "source": [
    "## Lesson 2"
   ]
  },
  {
   "cell_type": "code",
   "execution_count": 5,
   "metadata": {},
   "outputs": [],
   "source": [
    "import re\n",
    "s1 = 'abc123xyz'\n",
    "s2 = 'define \"123\"'\n",
    "s3 = 'var g = 123;'\n",
    "lesson_2 = r\"123\"\n",
    "r2 = re.compile(lesson_2)"
   ]
  },
  {
   "cell_type": "code",
   "execution_count": 6,
   "metadata": {},
   "outputs": [],
   "source": [
    "assert r2.search(s1), 'Failed string 1'\n",
    "assert r2.search(s2), 'Failed string 2'\n",
    "assert r2.search(s3), 'Failed string 3'"
   ]
  },
  {
   "cell_type": "markdown",
   "metadata": {},
   "source": [
    "## Lesson 3-14\n",
    "\n",
    "**Tasks:** \n",
    "\n",
    "For each lesson on RegexOne, do the following.\n",
    "\n",
    "1. Copy/paste these cells below\n",
    "2. Complete the lesson, \n",
    "3. Edit the strings to match the current lesson, (add new strings if needed)\n",
    "4. Put your solution in the next cell, and \n",
    "5. Make sure you pass the `assert` statements below."
   ]
  },
  {
   "cell_type": "code",
   "execution_count": 11,
   "metadata": {},
   "outputs": [],
   "source": [
    "#Lesson 3\n",
    "\n",
    "import re\n",
    "s1 = 'cat.'\n",
    "s2 = '896.'\n",
    "s3 = '?=+.'\n",
    "lesson_new = r\"...\\.\"\n",
    "r_new = re.compile(lesson_new)"
   ]
  },
  {
   "cell_type": "code",
   "execution_count": 12,
   "metadata": {},
   "outputs": [],
   "source": [
    "assert r_new.match(s1), 'Failed string 1'\n",
    "assert r_new.match(s2), 'Failed string 2'\n",
    "assert r_new.match(s3), 'Failed string 3'"
   ]
  },
  {
   "cell_type": "code",
   "execution_count": 13,
   "metadata": {},
   "outputs": [],
   "source": [
    "#Lesson 4\n",
    "import re\n",
    "s1 = 'can'\n",
    "s2 = 'man'\n",
    "s3 = 'fan'\n",
    "lesson_new = r\"[cmf]an\"\n",
    "r_new = re.compile(lesson_new)"
   ]
  },
  {
   "cell_type": "code",
   "execution_count": 14,
   "metadata": {},
   "outputs": [],
   "source": [
    "assert r_new.match(s1), 'Failed string 1'\n",
    "assert r_new.match(s2), 'Failed string 2'\n",
    "assert r_new.match(s3), 'Failed string 3'"
   ]
  },
  {
   "cell_type": "code",
   "execution_count": 17,
   "metadata": {},
   "outputs": [],
   "source": [
    "#lesson 5\n",
    "import re\n",
    "s1 = 'hog'\n",
    "s2 = 'dog'\n",
    "lesson_new = r\"[^b]og\"\n",
    "r_new = re.compile(lesson_new)"
   ]
  },
  {
   "cell_type": "code",
   "execution_count": 19,
   "metadata": {},
   "outputs": [],
   "source": [
    "assert r_new.match(s1), 'Failed string 1'\n",
    "assert r_new.match(s2), 'Failed string 2'\n"
   ]
  },
  {
   "cell_type": "code",
   "execution_count": 20,
   "metadata": {},
   "outputs": [],
   "source": [
    "#Lesson 6\n",
    "\n",
    "import re\n",
    "s1 = 'Ana'\n",
    "s2 = 'Bob'\n",
    "s3 = 'Cpc'\n",
    "lesson_new = r\"[A-C]\\w+\"\n",
    "r_new = re.compile(lesson_new)"
   ]
  },
  {
   "cell_type": "code",
   "execution_count": 21,
   "metadata": {},
   "outputs": [],
   "source": [
    "assert r_new.match(s1), 'Failed string 1'\n",
    "assert r_new.match(s2), 'Failed string 2'\n",
    "assert r_new.match(s3), 'Failed string 3'"
   ]
  },
  {
   "cell_type": "code",
   "execution_count": 28,
   "metadata": {},
   "outputs": [],
   "source": [
    "#Lesson 7 \n",
    "import re\n",
    "s1 = 'Wazzzzzup'\n",
    "s2 = 'Wazzzup'\n",
    "#s3 = 'Wazup'\n",
    "lesson_new = r\"Wa[z]{3,5}up\"\n",
    "r_new = re.compile(lesson_new)"
   ]
  },
  {
   "cell_type": "code",
   "execution_count": 30,
   "metadata": {},
   "outputs": [],
   "source": [
    "assert r_new.match(s1), 'Failed string 1'\n",
    "assert r_new.match(s2), 'Failed string 2'\n",
    "#assert r_new.match(s3), 'Failed string 3'"
   ]
  },
  {
   "cell_type": "code",
   "execution_count": 35,
   "metadata": {},
   "outputs": [],
   "source": [
    "#Lesson 8\n",
    "import re\n",
    "s1 = 'aaaabcc'\n",
    "s2 = 'aabbbbc'\n",
    "s3 = 'aacc'\n",
    "lesson_new = r\"a+b*c+\"\n",
    "r_new = re.compile(lesson_new)"
   ]
  },
  {
   "cell_type": "code",
   "execution_count": 36,
   "metadata": {},
   "outputs": [],
   "source": [
    "assert r_new.match(s1), 'Failed string 1'\n",
    "assert r_new.match(s2), 'Failed string 2'\n",
    "assert r_new.match(s3), 'Failed string 3'"
   ]
  },
  {
   "cell_type": "code",
   "execution_count": 37,
   "metadata": {},
   "outputs": [],
   "source": [
    "#Lesson 9\n",
    "import re\n",
    "s1 = '1 file found?'\n",
    "s2 = '2 files found?'\n",
    "s3 = '24 files found?'\n",
    "lesson_new = r\"\\d+ files? found\\?\"\n",
    "r_new = re.compile(lesson_new)"
   ]
  },
  {
   "cell_type": "code",
   "execution_count": 38,
   "metadata": {},
   "outputs": [],
   "source": [
    "assert r_new.match(s1), 'Failed string 1'\n",
    "assert r_new.match(s2), 'Failed string 2'\n",
    "assert r_new.match(s3), 'Failed string 3'"
   ]
  },
  {
   "cell_type": "code",
   "execution_count": 39,
   "metadata": {},
   "outputs": [],
   "source": [
    "import re\n",
    "s1 = '1.   abc'\n",
    "s2 = '2.      abc'\n",
    "s3 = '3.           abc'\n",
    "lesson_new = r\"\\d\\.\\s+abc\"\n",
    "r_new = re.compile(lesson_new)"
   ]
  },
  {
   "cell_type": "code",
   "execution_count": 40,
   "metadata": {},
   "outputs": [],
   "source": [
    "assert r_new.match(s1), 'Failed string 1'\n",
    "assert r_new.match(s2), 'Failed string 2'\n",
    "assert r_new.match(s3), 'Failed string 3'"
   ]
  },
  {
   "cell_type": "code",
   "execution_count": 43,
   "metadata": {},
   "outputs": [],
   "source": [
    "import re\n",
    "s1 = 'Mission: successful'\n",
    "# s2 = '2.      abc'\n",
    "# s3 = '3.           abc'\n",
    "lesson_new = r\"^Mission: successful$\"\n",
    "r_new = re.compile(lesson_new)"
   ]
  },
  {
   "cell_type": "code",
   "execution_count": 44,
   "metadata": {},
   "outputs": [],
   "source": [
    "assert r_new.match(s1), 'Failed string 1'\n"
   ]
  },
  {
   "cell_type": "code",
   "execution_count": 46,
   "metadata": {},
   "outputs": [],
   "source": [
    "s1 = 'file_record_transcript'\n",
    "s2 = 'file_07241999'\n",
    "#s3 = '3.           abc'\n",
    "lesson_new = r\"^(file_\\w+)\"\n",
    "r_new = re.compile(lesson_new)\n",
    "\n",
    "assert r_new.match(s1), 'Failed string 1'\n",
    "assert r_new.match(s2), 'Failed string 2'\n",
    "#assert r_new.match(s3), 'Failed string 3'"
   ]
  },
  {
   "cell_type": "code",
   "execution_count": 47,
   "metadata": {},
   "outputs": [],
   "source": [
    "s1 = 'Jan 1987'\n",
    "s2 = 'May 1969'\n",
    "s3 = 'Aug 2011'\n",
    "lesson_new = r\"(^\\w+\\s(\\d+))\"\n",
    "r_new = re.compile(lesson_new)\n",
    "\n",
    "assert r_new.match(s1), 'Failed string 1'\n",
    "assert r_new.match(s2), 'Failed string 2'\n",
    "assert r_new.match(s3), 'Failed string 3'"
   ]
  },
  {
   "cell_type": "code",
   "execution_count": 48,
   "metadata": {},
   "outputs": [],
   "source": [
    "s1 = '1280x720'\n",
    "s2 = '1920x1600'\n",
    "s3 = '1024x768'\n",
    "lesson_new = r\"(\\d+)x(\\d+)\"\n",
    "r_new = re.compile(lesson_new)\n",
    "\n",
    "assert r_new.match(s1), 'Failed string 1'\n",
    "assert r_new.match(s2), 'Failed string 2'\n",
    "assert r_new.match(s3), 'Failed string 3'"
   ]
  },
  {
   "cell_type": "code",
   "execution_count": 50,
   "metadata": {},
   "outputs": [],
   "source": [
    "s1 = 'I love cats'\n",
    "s2 = 'I love dogs'\n",
    "\n",
    "lesson_new = r\"I love (cats|dogs)\"\n",
    "r_new = re.compile(lesson_new)\n",
    "\n",
    "assert r_new.match(s1), 'Failed string 1'\n",
    "assert r_new.match(s2), 'Failed string 2'\n"
   ]
  },
  {
   "cell_type": "code",
   "execution_count": null,
   "metadata": {},
   "outputs": [],
   "source": []
  }
 ],
 "metadata": {
  "kernelspec": {
   "display_name": "Python 3",
   "language": "python",
   "name": "python3"
  },
  "language_info": {
   "codemirror_mode": {
    "name": "ipython",
    "version": 3
   },
   "file_extension": ".py",
   "mimetype": "text/x-python",
   "name": "python",
   "nbconvert_exporter": "python",
   "pygments_lexer": "ipython3",
   "version": "3.6.5"
  },
  "varInspector": {
   "cols": {
    "lenName": 16,
    "lenType": 16,
    "lenVar": 40
   },
   "kernels_config": {
    "python": {
     "delete_cmd_postfix": "",
     "delete_cmd_prefix": "del ",
     "library": "var_list.py",
     "varRefreshCmd": "print(var_dic_list())"
    },
    "r": {
     "delete_cmd_postfix": ") ",
     "delete_cmd_prefix": "rm(",
     "library": "var_list.r",
     "varRefreshCmd": "cat(var_dic_list()) "
    }
   },
   "types_to_exclude": [
    "module",
    "function",
    "builtin_function_or_method",
    "instance",
    "_Feature"
   ],
   "window_display": false
  }
 },
 "nbformat": 4,
 "nbformat_minor": 2
}
