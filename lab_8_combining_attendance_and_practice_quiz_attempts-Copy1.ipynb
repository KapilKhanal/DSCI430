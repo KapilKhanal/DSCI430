{
 "cells": [
  {
   "cell_type": "markdown",
   "metadata": {},
   "source": [
    "# Lab 8 - Combining Attendance and Practice Quiz Attempts"
   ]
  },
  {
   "cell_type": "markdown",
   "metadata": {},
   "source": [
    "## Background\n",
    "\n",
    "In all of my class, I use an attendace quiz to track student attendance.  Note that students take multiple attempts at the same quiz, one per class; so that number of attempts a student takes on this quiz represents the number of class session that student has attended.\n",
    "\n",
    "In some, but not all, of my courses I also provide practice quizzes that students can use to prepare for actual quizzes and tests.  These quizzes pull questions randomly from a bank of questions, allow students unlimited attempts, and are not used as part of the students grade.\n",
    "\n",
    "In this lab, you will collect simulated data from mock classes into one table and in the next lab you will summarize these data."
   ]
  },
  {
   "cell_type": "markdown",
   "metadata": {},
   "source": [
    "## Tasks \n",
    "\n",
    "The files found in `attendance_example.zip` contains (made-up and random) examples of the D2L files that I use to summarize my attendance quizzes and practice quizzes\n",
    "Make sure you download `attendance_example.zip` to the `data` folder inside the course repository, then unzip the file.\n",
    "\n",
    "1. Use `glob` to find the path to all csv files.\n",
    "2. Use write functions that use regular expressions to extract the class name, quiz type (`Attendance` and `Practice`), and the module number (if the file is a practice quiz.\n",
    "3. Write a function that takes a path as an argument and returns a dataframe that contains:\n",
    "    * All of the original columns\n",
    "    * A Class column that holds the class identifier\n",
    "    * A Category column that contains the quiz type\n",
    "    * A Module column that (a) contains the module number for a practice quiz, or (b) is otherwise empty.\n",
    "4. Use a loop, `union`, and the accumulator pattern to load all of the data into a single table.\n",
    "5. Write the resulting table to a csv file."
   ]
  },
  {
   "cell_type": "code",
   "execution_count": 222,
   "metadata": {},
   "outputs": [],
   "source": [
    "%reset -f"
   ]
  },
  {
   "cell_type": "code",
   "execution_count": 223,
   "metadata": {},
   "outputs": [],
   "source": [
    "import pandas as pd\n",
    "from dfply import *"
   ]
  },
  {
   "cell_type": "code",
   "execution_count": 224,
   "metadata": {},
   "outputs": [],
   "source": [
    "from glob import glob"
   ]
  },
  {
   "cell_type": "code",
   "execution_count": 225,
   "metadata": {},
   "outputs": [
    {
     "data": {
      "text/plain": [
       "['./data/attendance_example/stat491s1/Attendance Quiz - User Attempts.csv',\n",
       " './data/attendance_example/stat491s1/Practice Quiz - Module 4 - User Attempts.csv',\n",
       " './data/attendance_example/stat491s1/Practice Quiz - Module 2 - User Attempts.csv',\n",
       " './data/attendance_example/stat491s1/Practice Quiz - Module 3 - User Attempts.csv',\n",
       " './data/attendance_example/stat491s1/Practice Quiz - Module 1 - User Attempts.csv',\n",
       " './data/attendance_example/dsci494s7/Attendance Quiz - User Attempts.csv',\n",
       " './data/attendance_example/dsci494s7/Practice Quiz - Module 4 - User Attempts.csv',\n",
       " './data/attendance_example/dsci494s7/Practice Quiz - Module 2 - User Attempts.csv',\n",
       " './data/attendance_example/dsci494s7/Practice Quiz - Module 3 - User Attempts.csv',\n",
       " './data/attendance_example/dsci494s7/Practice Quiz - Module 1 - User Attempts.csv',\n",
       " './data/attendance_example/stat180s18/Attendance Quiz - User Attempts.csv']"
      ]
     },
     "execution_count": 225,
     "metadata": {},
     "output_type": "execute_result"
    }
   ],
   "source": [
    "files = glob('./data/attendance_example/*/*.csv')\n",
    "files"
   ]
  },
  {
   "cell_type": "code",
   "execution_count": 226,
   "metadata": {},
   "outputs": [],
   "source": [
    "import re"
   ]
  },
  {
   "cell_type": "code",
   "execution_count": 227,
   "metadata": {},
   "outputs": [
    {
     "data": {
      "text/plain": [
       "'Practice'"
      ]
     },
     "execution_count": 227,
     "metadata": {},
     "output_type": "execute_result"
    }
   ],
   "source": [
    "pattern = r'.\\/data\\/attendance_example\\/(\\w+\\d+)\\/([A-Za-z]*) Quiz.*'\n",
    "\n",
    "class_name = lambda file: re.compile(pattern).match(file).group(1)\n",
    "quiz_type = lambda file: re.compile(pattern).match(file).group(2)\n",
    "\n",
    "\n",
    "\n",
    "quiz_type(files[8])"
   ]
  },
  {
   "cell_type": "code",
   "execution_count": 228,
   "metadata": {},
   "outputs": [],
   "source": [
    "def get_df(file_path):\n",
    "    df = pd.read_csv(file_path)\n",
    "    df['Class'] = class_name(file_path)\n",
    "    df['Category'] = quiz_type(file_path)\n",
    "    \n",
    "    return df\n"
   ]
  },
  {
   "cell_type": "code",
   "execution_count": 229,
   "metadata": {},
   "outputs": [],
   "source": [
    "@dfpipe\n",
    "def union_all(left_df, right_df, ignore_index=True):\n",
    "    return pd.concat([left_df, right_df], ignore_index=ignore_index)"
   ]
  },
  {
   "cell_type": "code",
   "execution_count": 233,
   "metadata": {},
   "outputs": [
    {
     "data": {
      "text/plain": [
       "(3359, 12)"
      ]
     },
     "execution_count": 233,
     "metadata": {},
     "output_type": "execute_result"
    }
   ],
   "source": [
    "attendance_final = get_df(files[0])\n",
    "len_count = len(attendance_final)\n",
    "\n",
    "for file in files[1:]:\n",
    "    new_df = get_df(file)\n",
    "    len_count+= len(new_df) \n",
    "    attendance_final = attendance_final >> union_all(new_df)\n",
    "    \n",
    "\n",
    "\n",
    "attendance_final.shape\n"
   ]
  },
  {
   "cell_type": "code",
   "execution_count": 234,
   "metadata": {},
   "outputs": [],
   "source": [
    "attendance_final.to_csv('./data/attendance_final.csv')"
   ]
  }
 ],
 "metadata": {
  "kernelspec": {
   "display_name": "Python 3",
   "language": "python",
   "name": "python3"
  },
  "language_info": {
   "codemirror_mode": {
    "name": "ipython",
    "version": 3
   },
   "file_extension": ".py",
   "mimetype": "text/x-python",
   "name": "python",
   "nbconvert_exporter": "python",
   "pygments_lexer": "ipython3",
   "version": "3.7.0"
  }
 },
 "nbformat": 4,
 "nbformat_minor": 2
}
