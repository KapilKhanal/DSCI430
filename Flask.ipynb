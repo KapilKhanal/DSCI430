{
 "cells": [
  {
   "cell_type": "code",
   "execution_count": 1,
   "metadata": {},
   "outputs": [
    {
     "name": "stdout",
     "output_type": "stream",
     "text": [
      "Requirement already satisfied: flask in /anaconda3/lib/python3.6/site-packages (1.0.2)\n",
      "Requirement already satisfied: Werkzeug>=0.14 in /anaconda3/lib/python3.6/site-packages (from flask) (0.14.1)\n",
      "Requirement already satisfied: click>=5.1 in /anaconda3/lib/python3.6/site-packages (from flask) (6.7)\n",
      "Requirement already satisfied: Jinja2>=2.10 in /anaconda3/lib/python3.6/site-packages (from flask) (2.10)\n",
      "Requirement already satisfied: itsdangerous>=0.24 in /anaconda3/lib/python3.6/site-packages (from flask) (0.24)\n",
      "Requirement already satisfied: MarkupSafe>=0.23 in /anaconda3/lib/python3.6/site-packages (from Jinja2>=2.10->flask) (1.0)\n",
      "\u001b[33mYou are using pip version 18.1, however version 19.0.3 is available.\n",
      "You should consider upgrading via the 'pip install --upgrade pip' command.\u001b[0m\n"
     ]
    }
   ],
   "source": [
    "!pip install flask"
   ]
  },
  {
   "cell_type": "code",
   "execution_count": 3,
   "metadata": {},
   "outputs": [
    {
     "name": "stdout",
     "output_type": "stream",
     "text": [
      "Writing flask.py\n"
     ]
    }
   ],
   "source": [
    "%%writefile flask.py\n",
    "\n",
    "app = Flask(__name__)\n",
    "\n",
    "@app.route('/')\n",
    "def hello_world():\n",
    "    return 'Hello Kapil Khanal'\n",
    "\n",
    "if __name__ ==\"__main__\":\n",
    "    app.run(debug=True,port=8080)"
   ]
  },
  {
   "cell_type": "code",
   "execution_count": null,
   "metadata": {},
   "outputs": [],
   "source": []
  }
 ],
 "metadata": {
  "kernelspec": {
   "display_name": "Python 3",
   "language": "python",
   "name": "python3"
  },
  "language_info": {
   "codemirror_mode": {
    "name": "ipython",
    "version": 3
   },
   "file_extension": ".py",
   "mimetype": "text/x-python",
   "name": "python",
   "nbconvert_exporter": "python",
   "pygments_lexer": "ipython3",
   "version": "3.6.5"
  }
 },
 "nbformat": 4,
 "nbformat_minor": 2
}
