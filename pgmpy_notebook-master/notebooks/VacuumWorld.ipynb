{
 "cells": [
  {
   "cell_type": "code",
   "execution_count": 43,
   "metadata": {},
   "outputs": [],
   "source": [
    "def dirt_search(graph, start,dirt = ['B','C','D']):\n",
    "    dirt = set(dirt)\n",
    "    visited, stack = set(), [list(graph[start])[0]]\n",
    "    print(start)\n",
    "    while stack:\n",
    "        vertex = stack.pop()\n",
    "        print(vertex)\n",
    "        if (vertex not in visited):\n",
    "            if vertex in dirt:\n",
    "                print(\"Dirt found and cleaned\")\n",
    "                dirt = dirt.difference(set(vertex))\n",
    "                \n",
    "                print(dirt)\n",
    "                if len(dirt) == 0:\n",
    "                    print('All Cleaned')\n",
    "                    break\n",
    "            visited.add(vertex)\n",
    "            stack.extend(graph[vertex] - visited)\n",
    "    return None"
   ]
  },
  {
   "cell_type": "markdown",
   "metadata": {},
   "source": [
    "Say the graph is structured as below.With Dirt on B,C,D <br>\n",
    "[B,C,D]<br>\n",
    "[E,A,F]<br>\n",
    "[G,H,I]<br>\n",
    "\n"
   ]
  },
  {
   "cell_type": "code",
   "execution_count": 44,
   "metadata": {},
   "outputs": [],
   "source": [
    "graph = {'A': set(['C','E','F','H']),\n",
    "         'B': set(['C', 'E']),\n",
    "         'C': set(['B','D']),\n",
    "         'D': set(['C','F']),\n",
    "         'E': set(['B', 'A','G']),\n",
    "         'F': set(['A', 'D','I']),\n",
    "        'G': set(['H','E']),\n",
    "        'H': set(['A', 'G','I']),\n",
    "        'I': set(['H', 'F'])}"
   ]
  },
  {
   "cell_type": "code",
   "execution_count": 45,
   "metadata": {},
   "outputs": [
    {
     "name": "stdout",
     "output_type": "stream",
     "text": [
      "A\n",
      "H\n",
      "I\n",
      "F\n",
      "D\n",
      "Dirt found and cleaned\n",
      "{'B', 'C'}\n",
      "C\n",
      "Dirt found and cleaned\n",
      "{'B'}\n",
      "B\n",
      "Dirt found and cleaned\n",
      "set()\n",
      "All Cleaned\n"
     ]
    }
   ],
   "source": [
    "dirt_search(graph,'A',dirt = ['B','C','D'])"
   ]
  },
  {
   "cell_type": "code",
   "execution_count": null,
   "metadata": {},
   "outputs": [],
   "source": []
  }
 ],
 "metadata": {
  "kernelspec": {
   "display_name": "Python 3",
   "language": "python",
   "name": "python3"
  },
  "language_info": {
   "codemirror_mode": {
    "name": "ipython",
    "version": 3
   },
   "file_extension": ".py",
   "mimetype": "text/x-python",
   "name": "python",
   "nbconvert_exporter": "python",
   "pygments_lexer": "ipython3",
   "version": "3.6.7"
  }
 },
 "nbformat": 4,
 "nbformat_minor": 2
}
